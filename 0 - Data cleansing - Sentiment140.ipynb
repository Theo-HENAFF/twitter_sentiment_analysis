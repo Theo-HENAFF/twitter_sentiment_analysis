{
 "cells": [
  {
   "cell_type": "code",
   "execution_count": 1,
   "metadata": {},
   "outputs": [
    {
     "name": "stderr",
     "output_type": "stream",
     "text": [
      "[nltk_data] Downloading package stopwords to\n",
      "[nltk_data]     /home/Theo.Henaff/nltk_data...\n",
      "[nltk_data]   Package stopwords is already up-to-date!\n",
      "[nltk_data] Downloading package wordnet to\n",
      "[nltk_data]     /home/Theo.Henaff/nltk_data...\n",
      "[nltk_data]   Package wordnet is already up-to-date!\n"
     ]
    },
    {
     "data": {
      "text/plain": [
       "True"
      ]
     },
     "execution_count": 1,
     "metadata": {},
     "output_type": "execute_result"
    }
   ],
   "source": [
    "import string\n",
    "import pandas as pd\n",
    "import nltk\n",
    "import re\n",
    "\n",
    "import time\n",
    "\n",
    "nltk.download('stopwords')\n",
    "nltk.download('wordnet')"
   ]
  },
  {
   "cell_type": "code",
   "execution_count": 2,
   "metadata": {},
   "outputs": [],
   "source": [
    "stopword = nltk.corpus.stopwords.words('english')\n",
    "wn = nltk.WordNetLemmatizer()\n",
    "ps = nltk.PorterStemmer()\n",
    "\n",
    "def clean_text(text):\n",
    "        \n",
    "    # remove users tags and url\n",
    "    text = ' '.join(re.sub(\"(@[A-Za-z0-9]+)|([^0-9A-Za-z \\t])|(\\w+:\\/\\/\\S+)\", \" \", text).split())\n",
    "    # remove punctuation\n",
    "    text = \"\".join([char for char in text if char not in string.punctuation])\n",
    "    text = re.sub('[0-9]+', '', text)\n",
    "    # tokenize\n",
    "    text = re.split('\\W+', text)\n",
    "    # remove stop-word\n",
    "    \n",
    "    text = [word for word in text if word not in stopword]\n",
    "    # Stemming\n",
    "    text = [ps.stem(word) for word in text]\n",
    "    # Lammitization\n",
    "    text = [wn.lemmatize(word) for word in text]\n",
    "    # remove empty words\n",
    "    text = [word for word in text if word != '']\n",
    "    # rejoin for easier one-hot extraction\n",
    "    text = ' '.join(text)\n",
    "    # remove one letters words\n",
    "    new_text = []\n",
    "    for w in text.split(\" \"):\n",
    "        if len(w) > 1:\n",
    "            new_text.append(w)\n",
    "    text = \" \"\n",
    "    \n",
    "    return text.join(new_text)"
   ]
  },
  {
   "cell_type": "markdown",
   "metadata": {},
   "source": [
    "# Load and preapre the dataset"
   ]
  },
  {
   "cell_type": "code",
   "execution_count": 3,
   "metadata": {},
   "outputs": [],
   "source": [
    "start_time = time.time()\n",
    "\n",
    "data = pd.read_csv(\n",
    "     \"training.1600000.processed.noemoticon.csv\",\n",
    "     header=None,\n",
    "     encoding='latin-1',\n",
    "     usecols=[0, 5])\n",
    "\n",
    "# available columns are [0,1,2,4,5]=['polarity', 'id', 'date', 'user', 'text']\n",
    "\n",
    "data.columns = ['polarity', 'text']\n",
    "data['polarity'] = pd.to_numeric(data['polarity'], downcast='integer')\n",
    "\n",
    "# 0 ->[1,0] negative ou 0, 4 ->[0,1] positive ou 1\n",
    "data.polarity = data.polarity.replace({0: 0, 4: 1})\n",
    "\n",
    "start_time_2 = time.time()"
   ]
  },
  {
   "cell_type": "markdown",
   "metadata": {},
   "source": [
    "# Cleanse the data"
   ]
  },
  {
   "cell_type": "code",
   "execution_count": 4,
   "metadata": {},
   "outputs": [],
   "source": [
    "data['clean_text'] = data['text'].apply(lambda x: clean_text(x)) # ~260s\n",
    "# data['clean_text'] = data['text'].map(lambda x: clean_text(x)) # ~250s"
   ]
  },
  {
   "cell_type": "code",
   "execution_count": 5,
   "metadata": {},
   "outputs": [
    {
     "name": "stdout",
     "output_type": "stream",
     "text": [
      "Temps chargement dataset : 2.48s\n",
      "Temps nettoyage du dataset : 254.8s\n"
     ]
    }
   ],
   "source": [
    "print(\"Temps chargement dataset : {}s\".format(round(start_time_2 -start_time,2)))\n",
    "print(\"Temps nettoyage du dataset : {}s\".format(round(time.time() - start_time_2,2)))"
   ]
  },
  {
   "cell_type": "markdown",
   "metadata": {},
   "source": [
    "# Save dataframe to cleaned_data.csv"
   ]
  },
  {
   "cell_type": "code",
   "execution_count": 6,
   "metadata": {},
   "outputs": [],
   "source": [
    "data.to_csv(r'cleaned_data.csv', index = False)"
   ]
  }
 ],
 "metadata": {
  "kernelspec": {
   "display_name": "Python 3",
   "language": "python",
   "name": "python3"
  },
  "language_info": {
   "codemirror_mode": {
    "name": "ipython",
    "version": 3
   },
   "file_extension": ".py",
   "mimetype": "text/x-python",
   "name": "python",
   "nbconvert_exporter": "python",
   "pygments_lexer": "ipython3",
   "version": "3.8.8"
  }
 },
 "nbformat": 4,
 "nbformat_minor": 2
}
