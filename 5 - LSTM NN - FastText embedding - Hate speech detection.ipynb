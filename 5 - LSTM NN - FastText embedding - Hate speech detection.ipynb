{
 "cells": [
  {
   "cell_type": "code",
   "execution_count": 1,
   "metadata": {},
   "outputs": [
    {
     "name": "stderr",
     "output_type": "stream",
     "text": [
      "Using TensorFlow backend.\n"
     ]
    }
   ],
   "source": [
    "import pandas as pd\n",
    "import numpy as np\n",
    "\n",
    "import string\n",
    "import nltk\n",
    "import re\n",
    "\n",
    "nltk.download('stopwords')\n",
    "nltk.download('wordnet')\n",
    "\n",
    "from keras.preprocessing.text import Tokenizer\n",
    "from keras.preprocessing.sequence import pad_sequences\n",
    "from keras.models import Sequential, load_model\n",
    "from keras.layers import Embedding, LSTM, Dense, Bidirectional\n",
    "from keras.wrappers.scikit_learn import KerasClassifier\n",
    "from keras.callbacks import Callback,ModelCheckpoint\n",
    "\n",
    "import keras.backend as K\n",
    "\n",
    "from sklearn.model_selection import train_test_split\n",
    "\n",
    "import tensorflow as tf\n",
    "\n",
    "import matplotlib.pyplot as plt"
   ]
  },
  {
   "cell_type": "markdown",
   "metadata": {
    "pycharm": {
     "name": "#%% md\n"
    }
   },
   "source": [
    "# Setup GPU\n",
    "In order not to be sure that there is a GPU available for faster computing (x8 to 20 times faster)"
   ]
  },
  {
   "cell_type": "code",
   "execution_count": 2,
   "metadata": {
    "jupyter": {
     "outputs_hidden": false
    },
    "pycharm": {
     "name": "#%%\n"
    },
    "scrolled": true
   },
   "outputs": [
    {
     "name": "stdout",
     "output_type": "stream",
     "text": [
      "1 Physical GPUs, 1 Logical GPUs\n"
     ]
    },
    {
     "data": {
      "text/plain": [
       "<tensorflow.python.keras.callbacks.EarlyStopping at 0x7f3a324a3cd0>"
      ]
     },
     "execution_count": 2,
     "metadata": {},
     "output_type": "execute_result"
    }
   ],
   "source": [
    "gpus = tf.config.experimental.list_physical_devices('GPU')\n",
    "if gpus:\n",
    "    # Restrict TensorFlow to only allocate 1GB of memory on the first GPU\n",
    "    try:\n",
    "        # Uncomment the 3 next lines if you want to limit GPU memory usage\n",
    "        # tf.config.experimental.set_virtual_device_configuration(\n",
    "            # gpus[0],\n",
    "            # [tf.config.experimental.VirtualDeviceConfiguration(memory_limit=10240)])\n",
    "        logical_gpus = tf.config.experimental.list_logical_devices('GPU')\n",
    "        print(len(gpus), \"Physical GPUs,\", len(logical_gpus), \"Logical GPUs\")\n",
    "    except RuntimeError as e:\n",
    "        # Virtual devices must be set before GPUs have been initialized\n",
    "        print(e)"
   ]
  },
  {
   "cell_type": "markdown",
   "metadata": {},
   "source": [
    "# Parameters"
   ]
  },
  {
   "cell_type": "code",
   "execution_count": 2,
   "metadata": {},
   "outputs": [],
   "source": [
    "# FastText parameters\n",
    "min_count_FastText = 5\n",
    "# NN s general parameters\n",
    "batch_size = 256\n",
    "epochs = 50\n",
    "test_size=0.25\n",
    "# LSTM s parameters\n",
    "lstm_size = 128\n",
    "lstm_dropout = 0.8\n",
    "lstm_recurrent_dropout = 0.2"
   ]
  },
  {
   "cell_type": "markdown",
   "metadata": {},
   "source": [
    "# Define f1_score as metrics\n",
    "We do not use accuracy as metrics because the dataset is unbalanced, we use f1_score which is a combination of both accuracy and recall  \n",
    "This piece of code is taken from this [medium article](https://medium.com/@aakashgoel12/how-to-add-user-defined-function-get-f1-score-in-keras-metrics-3013f979ce0d)\n"
   ]
  },
  {
   "cell_type": "code",
   "execution_count": 3,
   "metadata": {},
   "outputs": [],
   "source": [
    "def get_f1(y_true, y_pred): #taken from old keras source code\n",
    "    true_positives = K.sum(K.round(K.clip(y_true * y_pred, 0, 1)))\n",
    "    possible_positives = K.sum(K.round(K.clip(y_true, 0, 1)))\n",
    "    predicted_positives = K.sum(K.round(K.clip(y_pred, 0, 1)))\n",
    "    precision = true_positives / (predicted_positives + K.epsilon())\n",
    "    recall = true_positives / (possible_positives + K.epsilon())\n",
    "    f1_val = 2*(precision*recall)/(precision+recall+K.epsilon())\n",
    "    return f1_val"
   ]
  },
  {
   "cell_type": "markdown",
   "metadata": {},
   "source": [
    "# Import hate speech CSV\n",
    "Despite using this CSV in 2 scripts we import it and clean it in each script because the csv isn't very big"
   ]
  },
  {
   "cell_type": "code",
   "execution_count": 2,
   "metadata": {},
   "outputs": [
    {
     "name": "stdout",
     "output_type": "stream",
     "text": [
      "   label                                              tweet\n",
      "0      0   @user when a father is dysfunctional and is s...\n",
      "1      0  @user @user thanks for #lyft credit i can't us...\n",
      "2      0                                bihday your majesty\n",
      "3      0  #model   i love u take with u all the time in ...\n",
      "4      0             factsguide: society now    #motivation\n",
      "   polarity                                               text\n",
      "0         0   @user when a father is dysfunctional and is s...\n",
      "1         0  @user @user thanks for #lyft credit i can't us...\n",
      "2         0                                bihday your majesty\n",
      "3         0  #model   i love u take with u all the time in ...\n",
      "4         0             factsguide: society now    #motivation\n"
     ]
    }
   ],
   "source": [
    "data = pd.read_csv(\n",
    "    \"hate_speech_train.csv\",\n",
    "    encoding='latin-1',\n",
    "    usecols=[1, 2])\n",
    "\n",
    "# available columns are [0,1,2]=['id', 'label', 'tweet'], we normalize it like the whole project\n",
    "data.columns = ['polarity', 'text']\n",
    "data['polarity'] = pd.to_numeric(data['polarity'], downcast='integer')\n",
    "print(data.head())"
   ]
  },
  {
   "cell_type": "markdown",
   "metadata": {},
   "source": [
    "# Define the function to clean the dataframe"
   ]
  },
  {
   "cell_type": "code",
   "execution_count": 5,
   "metadata": {},
   "outputs": [
    {
     "name": "stderr",
     "output_type": "stream",
     "text": [
      "[nltk_data] Downloading package stopwords to /home/HENAFF/nltk_data...\n",
      "[nltk_data]   Package stopwords is already up-to-date!\n",
      "[nltk_data] Downloading package wordnet to /home/HENAFF/nltk_data...\n",
      "[nltk_data]   Package wordnet is already up-to-date!\n"
     ]
    }
   ],
   "source": [
    "def clean_text(text):\n",
    "    # remove users tags and url\n",
    "    text = ' '.join(re.sub(\"(@[A-Za-z0-9]+)|([^0-9A-Za-z \\t])|(\\w+:\\/\\/\\S+)\", \" \", text).split())\n",
    "    # remove punctuation\n",
    "    text = \"\".join([char for char in text if char not in string.punctuation])\n",
    "    text = re.sub('[0-9]+', '', text)\n",
    "    # tokenize\n",
    "    text = re.split('\\W+', text)\n",
    "    # remove stop-word\n",
    "    stopword = nltk.corpus.stopwords.words('english')\n",
    "    text = [word for word in text if word not in stopword]\n",
    "    \n",
    "    # After testing I've discovered that stemming and lammitization do not improve results\n",
    "    # Stemming\n",
    "    #ps = nltk.PorterStemmer()\n",
    "    #text = [ps.stem(word) for word in text]\n",
    "    # Lammitization\n",
    "    #wn = nltk.WordNetLemmatizer()\n",
    "    #text = [wn.lemmatize(word) for word in text]\n",
    "    \n",
    "    # remove empty words\n",
    "    text = [word for word in text if word != '']\n",
    "    # rejoin for easier one-hot extraction\n",
    "    text = ' '.join(text)\n",
    "    # remove one letters words\n",
    "    new_text = []\n",
    "    for w in text.split(\" \"):\n",
    "        if len(w) > 1:\n",
    "            new_text.append(w)\n",
    "    text = \" \"\n",
    "    \n",
    "    return text.join(new_text)"
   ]
  },
  {
   "cell_type": "markdown",
   "metadata": {},
   "source": [
    "# Clean the text"
   ]
  },
  {
   "cell_type": "code",
   "execution_count": 4,
   "metadata": {},
   "outputs": [],
   "source": [
    "data['clean_text'] = data['text'].apply(lambda x: clean_text(x))"
   ]
  },
  {
   "cell_type": "code",
   "execution_count": 7,
   "metadata": {},
   "outputs": [
    {
     "name": "stdout",
     "output_type": "stream",
     "text": [
      "   polarity                                               text  \\\n",
      "0         0   @user when a father is dysfunctional and is s...   \n",
      "1         0  @user @user thanks for #lyft credit i can't us...   \n",
      "2         0                                bihday your majesty   \n",
      "3         0  #model   i love u take with u all the time in ...   \n",
      "4         0             factsguide: society now    #motivation   \n",
      "\n",
      "                                          clean_text  \n",
      "0  father dysfunctional selfish drags kids dysfun...  \n",
      "1  thanks lyft credit use cause offer wheelchair ...  \n",
      "2                                     bihday majesty  \n",
      "3                            model love take time ur  \n",
      "4                      factsguide society motivation  \n",
      "       polarity                                               text  \\\n",
      "31957         0  ate @user isz that youuu?Ã°ÂÂÂÃ°ÂÂÂÃ°ÂÂ...   \n",
      "31958         0    to see nina turner on the airwaves trying to...   \n",
      "31959         0  listening to sad songs on a monday morning otw...   \n",
      "31960         1  @user #sikh #temple vandalised in in #calgary,...   \n",
      "31961         0                   thank you @user for you follow     \n",
      "\n",
      "                                              clean_text  \n",
      "31957                                      ate isz youuu  \n",
      "31958  see nina turner airwaves trying wrap mantle ge...  \n",
      "31959    listening sad songs monday morning otw work sad  \n",
      "31960    sikh temple vandalised calgary wso condemns act  \n",
      "31961                                       thank follow  \n"
     ]
    }
   ],
   "source": [
    "print(data.head())"
   ]
  },
  {
   "cell_type": "markdown",
   "metadata": {},
   "source": [
    "# Load FastText model"
   ]
  },
  {
   "cell_type": "code",
   "execution_count": 10,
   "metadata": {},
   "outputs": [
    {
     "name": "stderr",
     "output_type": "stream",
     "text": [
      "/opt/conda/lib/python3.7/site-packages/ipykernel_launcher.py:4: DeprecationWarning: Call to deprecated `load_fasttext_format` (use load_facebook_vectors (to use pretrained embeddings) or load_facebook_model (to continue training with the loaded full model, more RAM) instead).\n",
      "  after removing the cwd from sys.path.\n"
     ]
    },
    {
     "name": "stdout",
     "output_type": "stream",
     "text": [
      "400\n"
     ]
    }
   ],
   "source": [
    "from gensim.models import FastText\n",
    "\n",
    "# Load pretrained model (since intermediate data is not included, the model cannot be refined with additional data)\n",
    "model_FastText = FastText.load_fasttext_format('fasttext.bin', )\n",
    "\n",
    "size_FastText = model_FastText.vector_size"
   ]
  },
  {
   "cell_type": "markdown",
   "metadata": {},
   "source": [
    "# Define functions to create the FastText weight matrix\n",
    "To set it as weight into the embedding layer"
   ]
  },
  {
   "cell_type": "code",
   "execution_count": 6,
   "metadata": {
    "jupyter": {
     "outputs_hidden": false
    },
    "pycharm": {
     "name": "#%%\n"
    }
   },
   "outputs": [],
   "source": [
    "def get_weight_matrix(vocab):\n",
    "    vocab_size = len(vocab) + 1\n",
    "    # define weight matrix dimensions with all 0\n",
    "    weight_matrix = np.zeros((vocab_size, size_FastText))\n",
    "\n",
    "    for w, i in vocab.items():\n",
    "        # The word_index contains a token for all words of the training data so we need to limit that\n",
    "        if i < vocab_size:\n",
    "            try:\n",
    "                vect = model_FastText.wv.get_vector(w)\n",
    "                weight_matrix[i] = vect\n",
    "            # Check if the word from the training data occurs in the GloVe word embeddings\n",
    "            # Otherwise the vector is kept with only zeros\n",
    "            except:\n",
    "                pass\n",
    "        else:\n",
    "            break\n",
    "    return weight_matrix"
   ]
  },
  {
   "cell_type": "markdown",
   "metadata": {},
   "source": [
    "# Convert text to vector"
   ]
  },
  {
   "cell_type": "code",
   "execution_count": 7,
   "metadata": {
    "jupyter": {
     "outputs_hidden": false
    },
    "pycharm": {
     "name": "#%%\n"
    }
   },
   "outputs": [],
   "source": [
    "max_length = max([len(s.split()) for s in df['clean_text']])\n",
    "\n",
    "# fit the tokenizer on the documents\n",
    "tk = Tokenizer(lower=True)\n",
    "tk.fit_on_texts(df['clean_text'].values)\n",
    "\n",
    "# transform each text into a list of tokens\n",
    "X_seq = tk.texts_to_sequences(df['clean_text'].values)\n",
    "X_pad = pad_sequences(X_seq, maxlen=max_length, padding='post')"
   ]
  },
  {
   "cell_type": "markdown",
   "metadata": {},
   "source": [
    "# Create weight matrix and set the embedding layer"
   ]
  },
  {
   "cell_type": "code",
   "execution_count": null,
   "metadata": {},
   "outputs": [],
   "source": [
    "# define vocabulary size (largest integer value)\n",
    "vocab_size = len(tk.word_index) + 1\n",
    "\n",
    "# create the embedding layer\n",
    "embedding_vectors = get_weight_matrix(tk.word_index)\n",
    "embedding_layer = Embedding(vocab_size, size_FastText, input_length=max_length, trainable=False, weights=[embedding_vectors])"
   ]
  },
  {
   "cell_type": "markdown",
   "metadata": {},
   "source": [
    "# Split test/train data"
   ]
  },
  {
   "cell_type": "code",
   "execution_count": 13,
   "metadata": {},
   "outputs": [
    {
     "data": {
      "text/plain": [
       "2242"
      ]
     },
     "execution_count": 13,
     "metadata": {},
     "output_type": "execute_result"
    }
   ],
   "source": [
    "# Count hate comments because there is a minority of them\n",
    "data['polarity'].value_counts()[1]"
   ]
  },
  {
   "cell_type": "code",
   "execution_count": 14,
   "metadata": {},
   "outputs": [],
   "source": [
    "X_train, X_test, y_train, y_test = train_test_split(X_pad, data['polarity'].values, test_size=test_size, random_state=1, shuffle=True)\n",
    "\n",
    "X_train1 = X_train[batch_size:]\n",
    "y_train1 = y_train[batch_size:]\n",
    "X_valid = X_train[:batch_size]\n",
    "y_valid = y_train[:batch_size]"
   ]
  },
  {
   "cell_type": "markdown",
   "metadata": {},
   "source": [
    "# Oversample train data with SMOTE"
   ]
  },
  {
   "cell_type": "code",
   "execution_count": 15,
   "metadata": {},
   "outputs": [
    {
     "name": "stdout",
     "output_type": "stream",
     "text": [
      "Counter({0: 22269, 1: 22269})\n"
     ]
    }
   ],
   "source": [
    "from imblearn.over_sampling import SMOTE\n",
    "from collections import Counter\n",
    "\n",
    "# transform the dataset\n",
    "oversample = SMOTE()\n",
    "X_train, y_train = oversample.fit_resample(X_train, y_train)\n",
    "\n",
    "counter = Counter(y_train)\n",
    "print(counter)"
   ]
  },
  {
   "cell_type": "markdown",
   "metadata": {},
   "source": [
    "# Model description"
   ]
  },
  {
   "cell_type": "code",
   "execution_count": null,
   "metadata": {},
   "outputs": [],
   "source": [
    "model = Sequential()\n",
    "\n",
    "model.add(embedding_layer)\n",
    "model.add(Bidirectional(LSTM(lstm_size, dropout=lstm_dropout, recurrent_dropout=lstm_recurrent_dropout)))\n",
    "model.add(Dense(1, activation='sigmoid'))\n",
    "\n",
    "model.compile(loss='binary_crossentropy', optimizer='adam', metrics=[get_f1]) #metrics=['accuracy'])"
   ]
  },
  {
   "cell_type": "markdown",
   "metadata": {},
   "source": [
    "# Model training"
   ]
  },
  {
   "cell_type": "code",
   "execution_count": 16,
   "metadata": {},
   "outputs": [
    {
     "name": "stdout",
     "output_type": "stream",
     "text": [
      "WARNING:tensorflow:Layer lstm will not use cuDNN kernel since it doesn't meet the cuDNN kernel criteria. It will use generic GPU kernel as fallback when running on GPU\n",
      "WARNING:tensorflow:Layer lstm will not use cuDNN kernel since it doesn't meet the cuDNN kernel criteria. It will use generic GPU kernel as fallback when running on GPU\n",
      "WARNING:tensorflow:Layer lstm will not use cuDNN kernel since it doesn't meet the cuDNN kernel criteria. It will use generic GPU kernel as fallback when running on GPU\n",
      "Epoch 1/50\n",
      "93/93 [==============================] - 27s 294ms/step - loss: 0.2252 - get_f1: 0.1509 - val_loss: 0.2717 - val_get_f1: 0.2759\n",
      "Epoch 2/50\n",
      "93/93 [==============================] - 27s 289ms/step - loss: 0.1561 - get_f1: 0.4533 - val_loss: 0.2119 - val_get_f1: 0.4242\n",
      "Epoch 3/50\n",
      "93/93 [==============================] - 27s 291ms/step - loss: 0.1477 - get_f1: 0.4917 - val_loss: 0.1881 - val_get_f1: 0.5405\n",
      "Epoch 4/50\n",
      "93/93 [==============================] - 27s 295ms/step - loss: 0.1402 - get_f1: 0.5394 - val_loss: 0.2087 - val_get_f1: 0.4242\n",
      "Epoch 5/50\n",
      "93/93 [==============================] - 28s 296ms/step - loss: 0.1344 - get_f1: 0.5600 - val_loss: 0.2278 - val_get_f1: 0.4242\n",
      "Epoch 6/50\n",
      "93/93 [==============================] - 27s 288ms/step - loss: 0.1301 - get_f1: 0.5807 - val_loss: 0.1921 - val_get_f1: 0.4242\n",
      "Epoch 7/50\n",
      "93/93 [==============================] - 27s 294ms/step - loss: 0.1273 - get_f1: 0.5980 - val_loss: 0.1825 - val_get_f1: 0.5405\n",
      "Epoch 8/50\n",
      "93/93 [==============================] - 27s 291ms/step - loss: 0.1238 - get_f1: 0.6078 - val_loss: 0.1801 - val_get_f1: 0.5263\n",
      "Epoch 9/50\n",
      "93/93 [==============================] - 27s 293ms/step - loss: 0.1203 - get_f1: 0.6238 - val_loss: 0.1704 - val_get_f1: 0.4706\n",
      "Epoch 10/50\n",
      "93/93 [==============================] - 27s 294ms/step - loss: 0.1189 - get_f1: 0.6307 - val_loss: 0.1839 - val_get_f1: 0.5405\n",
      "Epoch 11/50\n",
      "93/93 [==============================] - 27s 294ms/step - loss: 0.1180 - get_f1: 0.6384 - val_loss: 0.2146 - val_get_f1: 0.4375\n",
      "Epoch 12/50\n",
      "93/93 [==============================] - 27s 293ms/step - loss: 0.1132 - get_f1: 0.6524 - val_loss: 0.1796 - val_get_f1: 0.4118\n",
      "Epoch 13/50\n",
      "93/93 [==============================] - 27s 292ms/step - loss: 0.1158 - get_f1: 0.6453 - val_loss: 0.1836 - val_get_f1: 0.5405\n",
      "Epoch 14/50\n",
      "93/93 [==============================] - 27s 294ms/step - loss: 0.1120 - get_f1: 0.6545 - val_loss: 0.1716 - val_get_f1: 0.4242\n",
      "Epoch 15/50\n",
      "93/93 [==============================] - 27s 292ms/step - loss: 0.1108 - get_f1: 0.6659 - val_loss: 0.1840 - val_get_f1: 0.4706\n",
      "Epoch 16/50\n",
      "93/93 [==============================] - 28s 303ms/step - loss: 0.1074 - get_f1: 0.6717 - val_loss: 0.2086 - val_get_f1: 0.4706\n",
      "Epoch 17/50\n",
      "93/93 [==============================] - 27s 294ms/step - loss: 0.1033 - get_f1: 0.6948 - val_loss: 0.1586 - val_get_f1: 0.5405\n",
      "Epoch 18/50\n",
      "93/93 [==============================] - 27s 294ms/step - loss: 0.1038 - get_f1: 0.6874 - val_loss: 0.1491 - val_get_f1: 0.5789\n",
      "Epoch 19/50\n",
      "93/93 [==============================] - 27s 292ms/step - loss: 0.1019 - get_f1: 0.6918 - val_loss: 0.1961 - val_get_f1: 0.4516\n",
      "Epoch 20/50\n",
      "93/93 [==============================] - 27s 295ms/step - loss: 0.0988 - get_f1: 0.7102 - val_loss: 0.1747 - val_get_f1: 0.4375\n",
      "Epoch 21/50\n",
      "93/93 [==============================] - 28s 296ms/step - loss: 0.0970 - get_f1: 0.7026 - val_loss: 0.1891 - val_get_f1: 0.5000\n",
      "Epoch 22/50\n",
      "93/93 [==============================] - 27s 293ms/step - loss: 0.0953 - get_f1: 0.7141 - val_loss: 0.1629 - val_get_f1: 0.4848\n",
      "Epoch 23/50\n",
      "93/93 [==============================] - 27s 292ms/step - loss: 0.0942 - get_f1: 0.7150 - val_loss: 0.1750 - val_get_f1: 0.4848\n",
      "Epoch 24/50\n",
      "93/93 [==============================] - 27s 294ms/step - loss: 0.0922 - get_f1: 0.7199 - val_loss: 0.1602 - val_get_f1: 0.5946\n",
      "Epoch 25/50\n",
      "93/93 [==============================] - 27s 294ms/step - loss: 0.0917 - get_f1: 0.7366 - val_loss: 0.1719 - val_get_f1: 0.4375\n",
      "Epoch 26/50\n",
      "93/93 [==============================] - 27s 290ms/step - loss: 0.0911 - get_f1: 0.7248 - val_loss: 0.1523 - val_get_f1: 0.5946\n",
      "Epoch 27/50\n",
      "93/93 [==============================] - 28s 301ms/step - loss: 0.0933 - get_f1: 0.7072 - val_loss: 0.1566 - val_get_f1: 0.5946\n",
      "Epoch 28/50\n",
      "93/93 [==============================] - 27s 291ms/step - loss: 0.0887 - get_f1: 0.7422 - val_loss: 0.1791 - val_get_f1: 0.4706\n",
      "Epoch 29/50\n",
      "93/93 [==============================] - 27s 292ms/step - loss: 0.0832 - get_f1: 0.7501 - val_loss: 0.1667 - val_get_f1: 0.5294\n",
      "Epoch 30/50\n",
      "93/93 [==============================] - 27s 295ms/step - loss: 0.0851 - get_f1: 0.7405 - val_loss: 0.1576 - val_get_f1: 0.4375\n",
      "Epoch 31/50\n",
      "93/93 [==============================] - 27s 290ms/step - loss: 0.0815 - get_f1: 0.7487 - val_loss: 0.1745 - val_get_f1: 0.6154\n",
      "Epoch 32/50\n",
      "93/93 [==============================] - 28s 298ms/step - loss: 0.0835 - get_f1: 0.7477 - val_loss: 0.1487 - val_get_f1: 0.6316\n",
      "Epoch 33/50\n",
      "93/93 [==============================] - 27s 293ms/step - loss: 0.0805 - get_f1: 0.7596 - val_loss: 0.1411 - val_get_f1: 0.6829\n",
      "Epoch 34/50\n",
      "93/93 [==============================] - 27s 293ms/step - loss: 0.0794 - get_f1: 0.7548 - val_loss: 0.1497 - val_get_f1: 0.7442\n",
      "Epoch 35/50\n",
      "93/93 [==============================] - 27s 291ms/step - loss: 0.0781 - get_f1: 0.7624 - val_loss: 0.1723 - val_get_f1: 0.5714\n",
      "Epoch 36/50\n",
      "93/93 [==============================] - 27s 292ms/step - loss: 0.0782 - get_f1: 0.7696 - val_loss: 0.1435 - val_get_f1: 0.6667\n",
      "Epoch 37/50\n",
      "93/93 [==============================] - 27s 291ms/step - loss: 0.0759 - get_f1: 0.7766 - val_loss: 0.1548 - val_get_f1: 0.6111\n",
      "Epoch 38/50\n",
      "93/93 [==============================] - 28s 299ms/step - loss: 0.0760 - get_f1: 0.7755 - val_loss: 0.1235 - val_get_f1: 0.6842\n",
      "Epoch 39/50\n",
      "93/93 [==============================] - 27s 291ms/step - loss: 0.0767 - get_f1: 0.7803 - val_loss: 0.1567 - val_get_f1: 0.6486\n",
      "Epoch 40/50\n",
      "93/93 [==============================] - 27s 291ms/step - loss: 0.0735 - get_f1: 0.7723 - val_loss: 0.1461 - val_get_f1: 0.6667\n",
      "Epoch 41/50\n",
      "93/93 [==============================] - 27s 290ms/step - loss: 0.0725 - get_f1: 0.7846 - val_loss: 0.1731 - val_get_f1: 0.5294\n",
      "Epoch 42/50\n",
      "93/93 [==============================] - 27s 292ms/step - loss: 0.0703 - get_f1: 0.8005 - val_loss: 0.1464 - val_get_f1: 0.6667\n",
      "Epoch 43/50\n",
      "93/93 [==============================] - 28s 297ms/step - loss: 0.0717 - get_f1: 0.7831 - val_loss: 0.1650 - val_get_f1: 0.5946\n",
      "Epoch 44/50\n",
      "93/93 [==============================] - 27s 292ms/step - loss: 0.0672 - get_f1: 0.8067 - val_loss: 0.1542 - val_get_f1: 0.6842\n",
      "Epoch 45/50\n",
      "93/93 [==============================] - 27s 291ms/step - loss: 0.0674 - get_f1: 0.7955 - val_loss: 0.2103 - val_get_f1: 0.5882\n",
      "Epoch 46/50\n",
      "93/93 [==============================] - 27s 292ms/step - loss: 0.0688 - get_f1: 0.8051 - val_loss: 0.1835 - val_get_f1: 0.6316\n",
      "Epoch 47/50\n",
      "93/93 [==============================] - 27s 293ms/step - loss: 0.0663 - get_f1: 0.7944 - val_loss: 0.1559 - val_get_f1: 0.6500\n",
      "Epoch 48/50\n",
      "93/93 [==============================] - 27s 289ms/step - loss: 0.0686 - get_f1: 0.8046 - val_loss: 0.1583 - val_get_f1: 0.6829\n",
      "Epoch 49/50\n",
      "93/93 [==============================] - 27s 292ms/step - loss: 0.0666 - get_f1: 0.8065 - val_loss: 0.1811 - val_get_f1: 0.5556\n",
      "Epoch 50/50\n",
      "93/93 [==============================] - 28s 303ms/step - loss: 0.0636 - get_f1: 0.8172 - val_loss: 0.1774 - val_get_f1: 0.6486\n"
     ]
    }
   ],
   "source": [
    "history = model.fit(X_train1, y_train1, shuffle=True, validation_data=(X_valid, y_valid), batch_size=batch_size, epochs=epochs)"
   ]
  },
  {
   "cell_type": "markdown",
   "metadata": {},
   "source": [
    "# Evaluate model performance\n",
    "We do not use accuracy because the dataset is unbalanced, we use f1_score which is a combination of both accuracy and recall # Evaluate the model performance"
   ]
  },
  {
   "cell_type": "code",
   "execution_count": 17,
   "metadata": {},
   "outputs": [
    {
     "name": "stdout",
     "output_type": "stream",
     "text": [
      "Test f1_Score :  0.6098873019218445\n"
     ]
    },
    {
     "data": {
      "image/png": "[encoded data removed]",
      "text/plain": [
       "<Figure size 432x288 with 1 Axes>"
      ]
     },
     "metadata": {
      "needs_background": "light"
     },
     "output_type": "display_data"
    }
   ],
   "source": [
    "scores = model.evaluate(X_test, y_test, verbose=0)\n",
    "print(\"Test f1_score : \", scores[1])\n",
    "\n",
    "\n",
    "loss = history.history['loss']\n",
    "loss_val = history.history['val_loss']\n",
    "accuracy = history.history['get_f1']\n",
    "accuracy_val = history.history['val_get_f1']\n",
    "epochs = range(1, len(loss)+1)\n",
    "\n",
    "plt.plot(epochs, loss, 'b', label='Training loss')\n",
    "plt.plot(epochs, loss_val, 'b--', label='validation loss')\n",
    "plt.plot(epochs, accuracy, 'r', label='Training accuracy')\n",
    "plt.plot(epochs, accuracy_val, 'r--', label='validation accuracy')\n",
    "\n",
    "plt.title('Training and Validation loss')\n",
    "plt.xlabel('Epochs')\n",
    "plt.legend()\n",
    "plt.grid()\n",
    "plt.show()"
   ]
  },
  {
   "cell_type": "code",
   "execution_count": 13,
   "metadata": {},
   "outputs": [
    {
     "name": "stdout",
     "output_type": "stream",
     "text": [
      "0,8018674850463867\n"
     ]
    },
    {
     "data": {
      "text/plain": [
       "<Figure size 432x288 with 0 Axes>"
      ]
     },
     "metadata": {},
     "output_type": "display_data"
    }
   ],
   "source": [
    "# Save the plot with few caracteristics in the name\n",
    "scores[1] = str(scores[1]).replace(\".\",\",\")\n",
    "lstm_dropout = str(lstm_dropout).replace(\".\",\",\")\n",
    "print(scores[1])\n",
    "plt.savefig('HateSpeech FastText 1BidiLSTM f1_score {} drop {} sizeLSTM {}.png'.format(scores[1], lstm_dropout, lstm_size))"
   ]
  }
 ],
 "metadata": {
  "kernelspec": {
   "display_name": "Python 3",
   "language": "python",
   "name": "python3"
  },
  "language_info": {
   "codemirror_mode": {
    "name": "ipython",
    "version": 3
   },
   "file_extension": ".py",
   "mimetype": "text/x-python",
   "name": "python",
   "nbconvert_exporter": "python",
   "pygments_lexer": "ipython3",
   "version": "3.7.5"
  }
 },
 "nbformat": 4,
 "nbformat_minor": 4
}
