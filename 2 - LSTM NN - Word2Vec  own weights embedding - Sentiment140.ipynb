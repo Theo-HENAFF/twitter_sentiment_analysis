{
 "cells": [
  {
   "cell_type": "code",
   "execution_count": 1,
   "metadata": {
    "pycharm": {
     "is_executing": false
    }
   },
   "outputs": [
    {
     "name": "stderr",
     "output_type": "stream",
     "text": [
      "Using TensorFlow backend.\n"
     ]
    }
   ],
   "source": [
    "import pandas as pd\n",
    "import numpy as np\n",
    "from gensim.models import Word2Vec\n",
    "\n",
    "from keras.preprocessing.text import Tokenizer\n",
    "from keras.preprocessing.sequence import pad_sequences\n",
    "from keras.models import Sequential\n",
    "from keras.layers import Embedding, LSTM, Dense, Bidirectional\n",
    "\n",
    "from sklearn.model_selection import train_test_split\n",
    "\n",
    "import tensorflow as tf\n",
    "import matplotlib.pyplot as plt"
   ]
  },
  {
   "cell_type": "markdown",
   "metadata": {
    "pycharm": {
     "name": "#%% md\n"
    }
   },
   "source": [
    "# Setup GPU\n",
    "In order not to be sure that there is a GPU available for faster computing (x8 to 20 times faster)"
   ]
  },
  {
   "cell_type": "code",
   "execution_count": 2,
   "metadata": {
    "jupyter": {
     "outputs_hidden": false
    },
    "pycharm": {
     "name": "#%%\n"
    }
   },
   "outputs": [
    {
     "name": "stdout",
     "output_type": "stream",
     "text": [
      "1 Physical GPUs, 1 Logical GPUs\n"
     ]
    },
    {
     "data": {
      "text/plain": [
       "<tensorflow.python.keras.callbacks.EarlyStopping at 0x7f018ecf72d0>"
      ]
     },
     "execution_count": 2,
     "metadata": {},
     "output_type": "execute_result"
    }
   ],
   "source": [
    "gpus = tf.config.experimental.list_physical_devices('GPU')\n",
    "if gpus:\n",
    "    # Restrict TensorFlow to only allocate 1GB of memory on the first GPU\n",
    "    try:\n",
    "        # Uncomment the 3 next lines if you want to limit GPU memory usage\n",
    "        # tf.config.experimental.set_virtual_device_configuration(\n",
    "            # gpus[0],\n",
    "            # [tf.config.experimental.VirtualDeviceConfiguration(memory_limit=10240)])\n",
    "        logical_gpus = tf.config.experimental.list_logical_devices('GPU')\n",
    "        print(len(gpus), \"Physical GPUs,\", len(logical_gpus), \"Logical GPUs\")\n",
    "    except RuntimeError as e:\n",
    "        # Virtual devices must be set before GPUs have been initialized\n",
    "        print(e)"
   ]
  },
  {
   "cell_type": "markdown",
   "metadata": {
    "pycharm": {
     "name": "#%% md\n"
    }
   },
   "source": [
    "# Parameters"
   ]
  },
  {
   "cell_type": "code",
   "execution_count": 3,
   "metadata": {
    "jupyter": {
     "outputs_hidden": false
    },
    "pycharm": {
     "name": "#%%\n"
    }
   },
   "outputs": [],
   "source": [
    "# Word2Vec parameters\n",
    "min_count_word2vec = 30\n",
    "# NN s general parameters\n",
    "batch_size = 512\n",
    "epochs = 25\n",
    "test_size=0.25\n",
    "# LSTM s parameters\n",
    "lstm_size = 256\n",
    "lstm_dropout = 0.4\n",
    "lstm_recurrent_dropout = 0.0"
   ]
  },
  {
   "cell_type": "markdown",
   "metadata": {
    "pycharm": {
     "name": "#%% md\n"
    }
   },
   "source": [
    "# Import cleaned_data CSV"
   ]
  },
  {
   "cell_type": "code",
   "execution_count": 4,
   "metadata": {
    "jupyter": {
     "outputs_hidden": false
    },
    "pycharm": {
     "name": "#%%\n"
    }
   },
   "outputs": [],
   "source": [
    "df = pd.read_csv(\n",
    "    \"cleaned_data.csv\",\n",
    "    encoding='latin-1')\n",
    "df['clean_text'] = df.clean_text.astype(str)\n",
    "\n",
    "print(df.head())"
   ]
  },
  {
   "cell_type": "markdown",
   "metadata": {
    "pycharm": {
     "name": "#%% md\n"
    }
   },
   "source": [
    "# Train Word2Vec model"
   ]
  },
  {
   "cell_type": "code",
   "execution_count": null,
   "metadata": {},
   "outputs": [],
   "source": [
    "dict_word = {}\n",
    "sentences = []\n",
    "for items in df['clean_text'].iteritems():\n",
    "    words = items[1].split(\" \")\n",
    "    sentences.append(words)\n",
    "    for word in words:\n",
    "        if word in dict_word:\n",
    "            dict_word[word] += 1\n",
    "        else:\n",
    "            dict_word[word] = 1  # dictionary['UNK']\n",
    "\n",
    "\n",
    "cleaned_dict_word = [k for k,c in dict_word.items() if c >= min_occurance]"
   ]
  },
  {
   "cell_type": "code",
   "execution_count": 5,
   "metadata": {
    "jupyter": {
     "outputs_hidden": false
    },
    "pycharm": {
     "name": "#%%\n"
    }
   },
   "outputs": [
    {
     "name": "stdout",
     "output_type": "stream",
     "text": [
      "400\n"
     ]
    }
   ],
   "source": [
    "from gensim.models import Word2Vec\n",
    "\n",
    "model_Word2Vec = Word2Vec(sentences, size=size_word2vec, min_count=min_count_word2vec, workers=10)\n",
    "\n",
    "# summarize vocabulary size in model\n",
    "words = list(model_Word2Vec.wv.vocab)\n",
    "print('Vocabulary size: %d' % len(words))\n",
    "\n",
    "print(model_Word2Vec.wv.most_similar('good'))\n",
    "\n",
    "size_word2vec = model_Word2Vec.vector_size"
   ]
  },
  {
   "cell_type": "markdown",
   "metadata": {},
   "source": [
    "# Define functions to create the word2vec weight matrix"
   ]
  },
  {
   "cell_type": "code",
   "execution_count": 6,
   "metadata": {
    "jupyter": {
     "outputs_hidden": false
    },
    "pycharm": {
     "name": "#%%\n"
    }
   },
   "outputs": [],
   "source": [
    "def get_weight_matrix(vocab):\n",
    "    vocab_size = len(vocab) + 1\n",
    "    # define weight matrix dimensions with all 0\n",
    "    weight_matrix = np.zeros((vocab_size, size_word2vec))\n",
    "\n",
    "    for w, i in vocab.items():\n",
    "        # The word_index contains a token for all words of the training data so we need to limit that\n",
    "        if i < vocab_size:\n",
    "            try:\n",
    "                vect = model_Word2Vec.wv.get_vector(w)\n",
    "                weight_matrix[i] = vect\n",
    "            # Check if the word from the training data occurs in the GloVe word embeddings\n",
    "            # Otherwise the vector is kept with only zeros\n",
    "            except:\n",
    "                pass\n",
    "        else:\n",
    "            break\n",
    "    return weight_matrix"
   ]
  },
  {
   "cell_type": "markdown",
   "metadata": {},
   "source": [
    "# Convert text to vector"
   ]
  },
  {
   "cell_type": "code",
   "execution_count": 7,
   "metadata": {
    "jupyter": {
     "outputs_hidden": false
    },
    "pycharm": {
     "name": "#%%\n"
    }
   },
   "outputs": [
    {
     "name": "stderr",
     "output_type": "stream",
     "text": [
      "/opt/conda/lib/python3.7/site-packages/ipykernel_launcher.py:24: DeprecationWarning: Call to deprecated `wv` (Attribute will be removed in 4.0.0, use self instead).\n"
     ]
    }
   ],
   "source": [
    "max_length = max([len(s.split()) for s in df['clean_text']])\n",
    "# fit the tokenizer on the documents\n",
    "tk = Tokenizer(lower=True)\n",
    "tk.fit_on_texts(df['clean_text'].values)\n",
    "\n",
    "# transform each text into a list of tokens\n",
    "X_seq = tk.texts_to_sequences(df['clean_text'].values)\n",
    "X_pad = pad_sequences(X_seq, maxlen=max_length, padding='post')"
   ]
  },
  {
   "cell_type": "markdown",
   "metadata": {},
   "source": [
    "# Create weight matrix and set the embedding layer"
   ]
  },
  {
   "cell_type": "code",
   "execution_count": null,
   "metadata": {},
   "outputs": [],
   "source": [
    "# define vocabulary size (largest integer value)\n",
    "vocab_size = len(tk.word_index) + 1\n",
    "\n",
    "# create the embedding layer\n",
    "embedding_vectors = get_weight_matrix(tk.word_index)\n",
    "embedding_layer = Embedding(vocab_size, size_word2vec, input_length=max_length, trainable=False, weights=[embedding_vectors])"
   ]
  },
  {
   "cell_type": "markdown",
   "metadata": {},
   "source": [
    "# Split test/train data"
   ]
  },
  {
   "cell_type": "code",
   "execution_count": 8,
   "metadata": {
    "jupyter": {
     "outputs_hidden": false
    },
    "pycharm": {
     "name": "#%%\n"
    }
   },
   "outputs": [],
   "source": [
    "X_train, X_test, y_train, y_test = train_test_split(X_pad, df['polarity'].values, test_size=test_size, random_state=1, shuffle=True)\n",
    "\n",
    "# split train and validation set\n",
    "X_train1 = X_train[batch_size:]\n",
    "y_train1 = y_train[batch_size:]\n",
    "X_valid = X_train[:batch_size]\n",
    "y_valid = y_train[:batch_size]"
   ]
  },
  {
   "cell_type": "markdown",
   "metadata": {},
   "source": [
    "# Model description"
   ]
  },
  {
   "cell_type": "code",
   "execution_count": 9,
   "metadata": {
    "jupyter": {
     "outputs_hidden": false
    },
    "pycharm": {
     "name": "#%%\n"
    }
   },
   "outputs": [
    {
     "name": "stdout",
     "output_type": "stream",
     "text": [
      "Epoch 1/25\n",
      "2343/2343 [==============================] - 496s 212ms/step - loss: 0.4936 - accuracy: 0.7567 - val_loss: 0.4344 - val_accuracy: 0.7949\n",
      "Epoch 2/25\n",
      "2343/2343 [==============================] - 495s 211ms/step - loss: 0.4631 - accuracy: 0.7773 - val_loss: 0.4343 - val_accuracy: 0.7988\n",
      "Epoch 3/25\n",
      "2343/2343 [==============================] - 495s 211ms/step - loss: 0.4510 - accuracy: 0.7844 - val_loss: 0.4259 - val_accuracy: 0.7988\n",
      "Epoch 4/25\n",
      "2343/2343 [==============================] - 496s 212ms/step - loss: 0.4423 - accuracy: 0.7899 - val_loss: 0.4265 - val_accuracy: 0.8027\n",
      "Epoch 5/25\n",
      "2343/2343 [==============================] - 496s 212ms/step - loss: 0.4350 - accuracy: 0.7940 - val_loss: 0.4148 - val_accuracy: 0.8066\n",
      "Epoch 6/25\n",
      "2343/2343 [==============================] - 496s 212ms/step - loss: 0.4288 - accuracy: 0.7979 - val_loss: 0.4145 - val_accuracy: 0.7910\n",
      "Epoch 7/25\n",
      "2343/2343 [==============================] - 496s 212ms/step - loss: 0.4233 - accuracy: 0.8008 - val_loss: 0.4156 - val_accuracy: 0.7910\n",
      "Epoch 8/25\n",
      "2343/2343 [==============================] - 497s 212ms/step - loss: 0.4179 - accuracy: 0.8042 - val_loss: 0.4181 - val_accuracy: 0.7910\n",
      "Epoch 9/25\n",
      "2343/2343 [==============================] - 497s 212ms/step - loss: 0.4132 - accuracy: 0.8068 - val_loss: 0.4163 - val_accuracy: 0.7969\n",
      "Epoch 10/25\n",
      "2343/2343 [==============================] - 497s 212ms/step - loss: 0.4091 - accuracy: 0.8085 - val_loss: 0.4090 - val_accuracy: 0.7949\n",
      "Epoch 11/25\n",
      "2343/2343 [==============================] - 496s 212ms/step - loss: 0.4045 - accuracy: 0.8118 - val_loss: 0.4116 - val_accuracy: 0.7930\n",
      "Epoch 12/25\n",
      "2343/2343 [==============================] - 497s 212ms/step - loss: 0.4006 - accuracy: 0.8137 - val_loss: 0.4272 - val_accuracy: 0.7949\n",
      "Epoch 13/25\n",
      "2343/2343 [==============================] - 497s 212ms/step - loss: 0.3970 - accuracy: 0.8157 - val_loss: 0.4183 - val_accuracy: 0.7949\n",
      "Epoch 14/25\n",
      "2343/2343 [==============================] - 496s 212ms/step - loss: 0.3935 - accuracy: 0.8175 - val_loss: 0.4229 - val_accuracy: 0.7871\n",
      "Epoch 15/25\n",
      "2343/2343 [==============================] - 496s 212ms/step - loss: 0.3902 - accuracy: 0.8193 - val_loss: 0.4227 - val_accuracy: 0.8008\n",
      "Epoch 16/25\n",
      "2343/2343 [==============================] - 497s 212ms/step - loss: 0.3874 - accuracy: 0.8207 - val_loss: 0.4257 - val_accuracy: 0.7969\n",
      "Epoch 17/25\n",
      "2343/2343 [==============================] - 498s 212ms/step - loss: 0.3845 - accuracy: 0.8225 - val_loss: 0.4308 - val_accuracy: 0.7988\n",
      "Epoch 18/25\n",
      "2343/2343 [==============================] - 497s 212ms/step - loss: 0.3822 - accuracy: 0.8235 - val_loss: 0.4138 - val_accuracy: 0.8047\n",
      "Epoch 19/25\n",
      "2343/2343 [==============================] - 497s 212ms/step - loss: 0.3791 - accuracy: 0.8251 - val_loss: 0.4228 - val_accuracy: 0.7949\n",
      "Epoch 20/25\n",
      "2343/2343 [==============================] - 498s 212ms/step - loss: 0.3767 - accuracy: 0.8265 - val_loss: 0.4378 - val_accuracy: 0.7930\n",
      "Epoch 21/25\n",
      "2343/2343 [==============================] - 498s 213ms/step - loss: 0.3748 - accuracy: 0.8274 - val_loss: 0.4318 - val_accuracy: 0.7930\n",
      "Epoch 22/25\n",
      "2343/2343 [==============================] - 498s 212ms/step - loss: 0.3728 - accuracy: 0.8283 - val_loss: 0.4245 - val_accuracy: 0.8008\n",
      "Epoch 23/25\n",
      "2343/2343 [==============================] - 496s 212ms/step - loss: 0.3705 - accuracy: 0.8297 - val_loss: 0.4303 - val_accuracy: 0.7930\n",
      "Epoch 24/25\n",
      "2343/2343 [==============================] - 497s 212ms/step - loss: 0.3691 - accuracy: 0.8305 - val_loss: 0.4286 - val_accuracy: 0.7871\n",
      "Epoch 25/25\n",
      "2343/2343 [==============================] - 497s 212ms/step - loss: 0.3669 - accuracy: 0.8318 - val_loss: 0.4352 - val_accuracy: 0.7852\n"
     ]
    }
   ],
   "source": [
    "model = Sequential()\n",
    "\n",
    "model.add(embedding_layer)\n",
    "model.add(Bidirectional(LSTM(lstm_size, dropout=lstm_dropout, recurrent_dropout=lstm_recurrent_dropout, return_sequences=True)))\n",
    "model.add(Bidirectional(LSTM(lstm_size, dropout=lstm_dropout, recurrent_dropout=lstm_recurrent_dropout)))\n",
    "model.add(Dense(1, activation='sigmoid'))\n",
    "\n",
    "model.compile(loss='binary_crossentropy', optimizer='adam', metrics=['accuracy'])"
   ]
  },
  {
   "cell_type": "markdown",
   "metadata": {},
   "source": [
    "# Model training"
   ]
  },
  {
   "cell_type": "code",
   "execution_count": null,
   "metadata": {},
   "outputs": [],
   "source": [
    "history = model.fit(X_train1, y_train1, shuffle=True, validation_data=(X_valid, y_valid), batch_size=batch_size, epochs=epochs)"
   ]
  },
  {
   "cell_type": "markdown",
   "metadata": {},
   "source": [
    "# Evaluate the model performance"
   ]
  },
  {
   "cell_type": "code",
   "execution_count": 12,
   "metadata": {
    "jupyter": {
     "outputs_hidden": false
    },
    "pycharm": {
     "name": "#%%\n"
    }
   },
   "outputs": [
    {
     "name": "stdout",
     "output_type": "stream",
     "text": [
      "Test accuracy :  0.7935724854469299\n"
     ]
    },
    {
     "data": {
      "image/png": "[encoded data removed]",
      "text/plain": [
       "<Figure size 432x288 with 1 Axes>"
      ]
     },
     "metadata": {
      "needs_background": "light"
     },
     "output_type": "display_data"
    }
   ],
   "source": [
    "scores = model.evaluate(X_test, y_test, verbose=0)\n",
    "print(\"Test accuracy : \", scores[1])\n",
    "\n",
    "\n",
    "loss = history.history['loss']\n",
    "loss_val = history.history['val_loss']\n",
    "accuracy = history.history['accuracy']\n",
    "accuracy_val = history.history['val_accuracy']\n",
    "epochs = range(1, len(loss)+1)\n",
    "\n",
    "plt.plot(epochs, loss, 'b', label='Training loss')\n",
    "plt.plot(epochs, loss_val, 'b--', label='validation loss')\n",
    "plt.plot(epochs, accuracy, 'r', label='Training accuracy')\n",
    "plt.plot(epochs, accuracy_val, 'r--', label='validation accuracy')\n",
    "\n",
    "plt.title('Training and Validation loss')\n",
    "plt.xlabel('Epochs')\n",
    "plt.legend()\n",
    "plt.grid()\n",
    "plt.show()"
   ]
  },
  {
   "cell_type": "code",
   "execution_count": 14,
   "metadata": {},
   "outputs": [
    {
     "data": {
      "text/plain": [
       "<Figure size 432x288 with 0 Axes>"
      ]
     },
     "metadata": {},
     "output_type": "display_data"
    }
   ],
   "source": [
    "# Save the plot with few caracteristics in the name\n",
    "scores[1] = str(scores[1]).replace(\".\",\",\")\n",
    "lstm_dropout = str(lstm_dropout).replace(\".\",\",\")\n",
    "print(scores[1])\n",
    "plt.savefig('Word2Vec 2BidiLSTM score {} drop {} sizeLSTM {}.png'.format(scores[1], lstm_dropout, lstm_size))"
   ]
  },
  {
   "cell_type": "code",
   "execution_count": null,
   "metadata": {},
   "outputs": [],
   "source": []
  }
 ],
 "metadata": {
  "environment": {
   "name": "tf2-2-3-gpu.2-3.m58",
   "type": "gcloud",
   "uri": "gcr.io/deeplearning-platform-release/tf2-2-3-gpu.2-3:m58"
  },
  "kernelspec": {
   "display_name": "Python 3",
   "language": "python",
   "name": "python3"
  },
  "language_info": {
   "codemirror_mode": {
    "name": "ipython",
    "version": 3
   },
   "file_extension": ".py",
   "mimetype": "text/x-python",
   "name": "python",
   "nbconvert_exporter": "python",
   "pygments_lexer": "ipython3",
   "version": "3.7.5"
  },
  "pycharm": {
   "stem_cell": {
    "cell_type": "raw",
    "metadata": {
     "collapsed": false
    },
    "source": []
   }
  }
 },
 "nbformat": 4,
 "nbformat_minor": 4
}
