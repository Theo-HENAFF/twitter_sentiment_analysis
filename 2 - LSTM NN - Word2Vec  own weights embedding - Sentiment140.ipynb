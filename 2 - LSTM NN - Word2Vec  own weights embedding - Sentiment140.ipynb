{
 "cells": [
  {
   "cell_type": "code",
   "execution_count": 1,
   "metadata": {
    "pycharm": {
     "is_executing": false
    }
   },
   "outputs": [
    {
     "name": "stderr",
     "output_type": "stream",
     "text": [
      "Using TensorFlow backend.\n"
     ]
    }
   ],
   "source": [
    "import pandas as pd\n",
    "import numpy as np\n",
    "from gensim.models import Word2Vec\n",
    "\n",
    "from keras.preprocessing.text import Tokenizer\n",
    "from keras.preprocessing.sequence import pad_sequences\n",
    "from keras.models import Sequential\n",
    "from keras.layers import Embedding, LSTM, Dense, Bidirectional\n",
    "\n",
    "from sklearn.model_selection import train_test_split\n",
    "\n",
    "import tensorflow as tf\n",
    "import matplotlib.pyplot as plt"
   ]
  },
  {
   "cell_type": "markdown",
   "metadata": {
    "pycharm": {
     "name": "#%% md\n"
    }
   },
   "source": [
    "# Setup GPU\n",
    "In order not to be sure that there is a GPU available for faster computing (x8 to 20 times faster)"
   ]
  },
  {
   "cell_type": "code",
   "execution_count": 2,
   "metadata": {
    "jupyter": {
     "outputs_hidden": false
    },
    "pycharm": {
     "name": "#%%\n"
    }
   },
   "outputs": [
    {
     "name": "stdout",
     "output_type": "stream",
     "text": [
      "1 Physical GPUs, 1 Logical GPUs\n"
     ]
    }
   ],
   "source": [
    "gpus = tf.config.experimental.list_physical_devices('GPU')\n",
    "if gpus:\n",
    "    # Restrict TensorFlow to only allocate 1GB of memory on the first GPU\n",
    "    try:\n",
    "        # Uncomment the 3 next lines if you want to limit GPU memory usage\n",
    "        # tf.config.experimental.set_virtual_device_configuration(\n",
    "            # gpus[0],\n",
    "            # [tf.config.experimental.VirtualDeviceConfiguration(memory_limit=10240)])\n",
    "        logical_gpus = tf.config.experimental.list_logical_devices('GPU')\n",
    "        print(len(gpus), \"Physical GPUs,\", len(logical_gpus), \"Logical GPUs\")\n",
    "    except RuntimeError as e:\n",
    "        # Virtual devices must be set before GPUs have been initialized\n",
    "        print(e)"
   ]
  },
  {
   "cell_type": "markdown",
   "metadata": {
    "pycharm": {
     "name": "#%% md\n"
    }
   },
   "source": [
    "# Parameters"
   ]
  },
  {
   "cell_type": "code",
   "execution_count": 3,
   "metadata": {
    "jupyter": {
     "outputs_hidden": false
    },
    "pycharm": {
     "name": "#%%\n"
    }
   },
   "outputs": [],
   "source": [
    "# Word2Vec parameters\n",
    "min_count_word2vec = 30\n",
    "size_word2vec = 30\n",
    "# NN s general parameters\n",
    "batch_size = 512\n",
    "epochs = 25\n",
    "test_size=0.25\n",
    "# LSTM s parameters\n",
    "lstm_size = 256\n",
    "lstm_dropout = 0.4\n",
    "lstm_recurrent_dropout = 0.0"
   ]
  },
  {
   "cell_type": "markdown",
   "metadata": {
    "pycharm": {
     "name": "#%% md\n"
    }
   },
   "source": [
    "# Import cleaned_data CSV"
   ]
  },
  {
   "cell_type": "code",
   "execution_count": 4,
   "metadata": {
    "jupyter": {
     "outputs_hidden": false
    },
    "pycharm": {
     "name": "#%%\n"
    }
   },
   "outputs": [
    {
     "name": "stdout",
     "output_type": "stream",
     "text": [
      "   polarity                                               text  \\\n",
      "0         0  @switchfoot http://twitpic.com/2y1zl - Awww, t...   \n",
      "1         0  is upset that he can't update his Facebook by ...   \n",
      "2         0  @Kenichan I dived many times for the ball. Man...   \n",
      "3         0    my whole body feels itchy and like its on fire    \n",
      "4         0  @nationwideclass no, it's not behaving at all....   \n",
      "\n",
      "                                          clean_text  \n",
      "0   awww bummer you shoulda got david carr third day  \n",
      "1  upset updat facebook text might cri result sch...  \n",
      "2      dive mani time ball manag save the rest bound  \n",
      "3                    whole bodi feel itchi like fire  \n",
      "4                                      behav mad see  \n"
     ]
    }
   ],
   "source": [
    "df = pd.read_csv(\n",
    "    \"cleaned_data.csv\",\n",
    "    encoding='latin-1')\n",
    "df['clean_text'] = df.clean_text.astype(str)\n",
    "\n",
    "print(df.head())"
   ]
  },
  {
   "cell_type": "markdown",
   "metadata": {
    "pycharm": {
     "name": "#%% md\n"
    }
   },
   "source": [
    "# Train Word2Vec model"
   ]
  },
  {
   "cell_type": "code",
   "execution_count": 5,
   "metadata": {},
   "outputs": [],
   "source": [
    "dict_word = {}\n",
    "sentences = []\n",
    "for items in df['clean_text'].iteritems():\n",
    "    words = items[1].split(\" \")\n",
    "    sentences.append(words)\n",
    "    for word in words:\n",
    "        if word in dict_word:\n",
    "            dict_word[word] += 1\n",
    "        else:\n",
    "            dict_word[word] = 1  # dictionary['UNK']\n",
    "\n",
    "\n",
    "cleaned_dict_word = [k for k,c in dict_word.items() if c >= min_count_word2vec]"
   ]
  },
  {
   "cell_type": "code",
   "execution_count": 6,
   "metadata": {
    "jupyter": {
     "outputs_hidden": false
    },
    "pycharm": {
     "name": "#%%\n"
    }
   },
   "outputs": [
    {
     "name": "stdout",
     "output_type": "stream",
     "text": [
      "Vocabulary size: 13101\n",
      "[('great', 0.8558900952339172), ('bad', 0.8268224000930786), ('nice', 0.7336781620979309), ('rough', 0.721531093120575), ('shitti', 0.7153756618499756), ('tough', 0.7133850455284119), ('fabul', 0.7131809592247009), ('crappi', 0.7118722200393677), ('wonder', 0.7039622068405151), ('horribl', 0.6984501481056213)]\n"
     ]
    }
   ],
   "source": [
    "from gensim.models import Word2Vec\n",
    "\n",
    "model_Word2Vec = Word2Vec(sentences, size=size_word2vec, min_count=min_count_word2vec, workers=10)\n",
    "\n",
    "# summarize vocabulary size in model\n",
    "words = list(model_Word2Vec.wv.vocab)\n",
    "print('Vocabulary size: %d' % len(words))\n",
    "\n",
    "print(model_Word2Vec.wv.most_similar('good'))\n",
    "\n",
    "size_word2vec = model_Word2Vec.vector_size"
   ]
  },
  {
   "cell_type": "markdown",
   "metadata": {},
   "source": [
    "# Define functions to create the word2vec weight matrix"
   ]
  },
  {
   "cell_type": "code",
   "execution_count": 7,
   "metadata": {
    "jupyter": {
     "outputs_hidden": false
    },
    "pycharm": {
     "name": "#%%\n"
    }
   },
   "outputs": [],
   "source": [
    "def get_weight_matrix(vocab):\n",
    "    vocab_size = len(vocab) + 1\n",
    "    # define weight matrix dimensions with all 0\n",
    "    weight_matrix = np.zeros((vocab_size, size_word2vec))\n",
    "\n",
    "    for w, i in vocab.items():\n",
    "        # The word_index contains a token for all words of the training data so we need to limit that\n",
    "        if i < vocab_size:\n",
    "            try:\n",
    "                vect = model_Word2Vec.wv.get_vector(w)\n",
    "                weight_matrix[i] = vect\n",
    "            # Check if the word from the training data occurs in the GloVe word embeddings\n",
    "            # Otherwise the vector is kept with only zeros\n",
    "            except:\n",
    "                pass\n",
    "        else:\n",
    "            break\n",
    "    return weight_matrix"
   ]
  },
  {
   "cell_type": "markdown",
   "metadata": {},
   "source": [
    "# Convert text to vector"
   ]
  },
  {
   "cell_type": "code",
   "execution_count": 8,
   "metadata": {
    "jupyter": {
     "outputs_hidden": false
    },
    "pycharm": {
     "name": "#%%\n"
    }
   },
   "outputs": [],
   "source": [
    "max_length = max([len(s.split()) for s in df['clean_text']])\n",
    "# fit the tokenizer on the documents\n",
    "tk = Tokenizer(lower=True)\n",
    "tk.fit_on_texts(df['clean_text'].values)\n",
    "\n",
    "# transform each text into a list of tokens\n",
    "X_seq = tk.texts_to_sequences(df['clean_text'].values)\n",
    "X_pad = pad_sequences(X_seq, maxlen=max_length, padding='post')"
   ]
  },
  {
   "cell_type": "markdown",
   "metadata": {},
   "source": [
    "# Create weight matrix and set the embedding layer"
   ]
  },
  {
   "cell_type": "code",
   "execution_count": 9,
   "metadata": {},
   "outputs": [],
   "source": [
    "# define vocabulary size (largest integer value)\n",
    "vocab_size = len(tk.word_index) + 1\n",
    "\n",
    "# create the embedding layer\n",
    "embedding_vectors = get_weight_matrix(tk.word_index)\n",
    "embedding_layer = Embedding(vocab_size, size_word2vec, input_length=max_length, trainable=False, weights=[embedding_vectors])"
   ]
  },
  {
   "cell_type": "markdown",
   "metadata": {},
   "source": [
    "# Split test/train data"
   ]
  },
  {
   "cell_type": "code",
   "execution_count": 10,
   "metadata": {
    "jupyter": {
     "outputs_hidden": false
    },
    "pycharm": {
     "name": "#%%\n"
    }
   },
   "outputs": [],
   "source": [
    "X_train, X_test, y_train, y_test = train_test_split(X_pad, df['polarity'].values, test_size=test_size, random_state=1, shuffle=True)\n",
    "\n",
    "# split train and validation set\n",
    "X_train1 = X_train[batch_size:]\n",
    "y_train1 = y_train[batch_size:]\n",
    "X_valid = X_train[:batch_size]\n",
    "y_valid = y_train[:batch_size]"
   ]
  },
  {
   "cell_type": "markdown",
   "metadata": {},
   "source": [
    "# Model description"
   ]
  },
  {
   "cell_type": "code",
   "execution_count": 11,
   "metadata": {
    "jupyter": {
     "outputs_hidden": false
    },
    "pycharm": {
     "name": "#%%\n"
    }
   },
   "outputs": [],
   "source": [
    "model = Sequential()\n",
    "\n",
    "model.add(embedding_layer)\n",
    "model.add(Bidirectional(LSTM(lstm_size, dropout=lstm_dropout, recurrent_dropout=lstm_recurrent_dropout, return_sequences=True)))\n",
    "model.add(Bidirectional(LSTM(lstm_size, dropout=lstm_dropout, recurrent_dropout=lstm_recurrent_dropout)))\n",
    "model.add(Dense(1, activation='sigmoid'))\n",
    "\n",
    "model.compile(loss='binary_crossentropy', optimizer='adam', metrics=['accuracy'])"
   ]
  },
  {
   "cell_type": "markdown",
   "metadata": {},
   "source": [
    "# Model training"
   ]
  },
  {
   "cell_type": "code",
   "execution_count": 12,
   "metadata": {},
   "outputs": [
    {
     "name": "stdout",
     "output_type": "stream",
     "text": [
      "Epoch 1/25\n",
      "2343/2343 [==============================] - 404s 172ms/step - loss: 0.5279 - accuracy: 0.7311 - val_loss: 0.4426 - val_accuracy: 0.7812\n",
      "Epoch 2/25\n",
      "2343/2343 [==============================] - 402s 172ms/step - loss: 0.4981 - accuracy: 0.7529 - val_loss: 0.4320 - val_accuracy: 0.7891\n",
      "Epoch 3/25\n",
      "2343/2343 [==============================] - 402s 172ms/step - loss: 0.4868 - accuracy: 0.7605 - val_loss: 0.4321 - val_accuracy: 0.7871\n",
      "Epoch 4/25\n",
      "2343/2343 [==============================] - 403s 172ms/step - loss: 0.4802 - accuracy: 0.7653 - val_loss: 0.4198 - val_accuracy: 0.8027\n",
      "Epoch 5/25\n",
      "2343/2343 [==============================] - 403s 172ms/step - loss: 0.4750 - accuracy: 0.7681 - val_loss: 0.4252 - val_accuracy: 0.7930\n",
      "Epoch 6/25\n",
      "2343/2343 [==============================] - 403s 172ms/step - loss: 0.4714 - accuracy: 0.7709 - val_loss: 0.4218 - val_accuracy: 0.7871\n",
      "Epoch 7/25\n",
      "2343/2343 [==============================] - 402s 172ms/step - loss: 0.4683 - accuracy: 0.7726 - val_loss: 0.4221 - val_accuracy: 0.7910\n",
      "Epoch 8/25\n",
      "2343/2343 [==============================] - 403s 172ms/step - loss: 0.4657 - accuracy: 0.7743 - val_loss: 0.4237 - val_accuracy: 0.7910\n",
      "Epoch 9/25\n",
      "2343/2343 [==============================] - 403s 172ms/step - loss: 0.4637 - accuracy: 0.7755 - val_loss: 0.4193 - val_accuracy: 0.7930\n",
      "Epoch 10/25\n",
      "2343/2343 [==============================] - 402s 172ms/step - loss: 0.4616 - accuracy: 0.7765 - val_loss: 0.4218 - val_accuracy: 0.7969\n",
      "Epoch 11/25\n",
      "2343/2343 [==============================] - 403s 172ms/step - loss: 0.4603 - accuracy: 0.7777 - val_loss: 0.4265 - val_accuracy: 0.7930\n",
      "Epoch 12/25\n",
      "2343/2343 [==============================] - 403s 172ms/step - loss: 0.4586 - accuracy: 0.7789 - val_loss: 0.4182 - val_accuracy: 0.7969\n",
      "Epoch 13/25\n",
      "2343/2343 [==============================] - 403s 172ms/step - loss: 0.4572 - accuracy: 0.7797 - val_loss: 0.4187 - val_accuracy: 0.8125\n",
      "Epoch 14/25\n",
      "2343/2343 [==============================] - 403s 172ms/step - loss: 0.4558 - accuracy: 0.7809 - val_loss: 0.4137 - val_accuracy: 0.7988\n",
      "Epoch 15/25\n",
      "2343/2343 [==============================] - 403s 172ms/step - loss: 0.4548 - accuracy: 0.7810 - val_loss: 0.4122 - val_accuracy: 0.7988\n",
      "Epoch 16/25\n",
      "2343/2343 [==============================] - 403s 172ms/step - loss: 0.4534 - accuracy: 0.7820 - val_loss: 0.4136 - val_accuracy: 0.7949\n",
      "Epoch 17/25\n",
      "2343/2343 [==============================] - 403s 172ms/step - loss: 0.4523 - accuracy: 0.7826 - val_loss: 0.4149 - val_accuracy: 0.7949\n",
      "Epoch 18/25\n",
      "2343/2343 [==============================] - 403s 172ms/step - loss: 0.4516 - accuracy: 0.7828 - val_loss: 0.4186 - val_accuracy: 0.7988\n",
      "Epoch 19/25\n",
      "2343/2343 [==============================] - 403s 172ms/step - loss: 0.4503 - accuracy: 0.7841 - val_loss: 0.4220 - val_accuracy: 0.7930\n",
      "Epoch 20/25\n",
      "2343/2343 [==============================] - 403s 172ms/step - loss: 0.4492 - accuracy: 0.7848 - val_loss: 0.4133 - val_accuracy: 0.8086\n",
      "Epoch 21/25\n",
      "2343/2343 [==============================] - 404s 172ms/step - loss: 0.4481 - accuracy: 0.7850 - val_loss: 0.4150 - val_accuracy: 0.8047\n",
      "Epoch 22/25\n",
      "2343/2343 [==============================] - 403s 172ms/step - loss: 0.4474 - accuracy: 0.7855 - val_loss: 0.4103 - val_accuracy: 0.7949\n",
      "Epoch 23/25\n",
      "2343/2343 [==============================] - 403s 172ms/step - loss: 0.4466 - accuracy: 0.7859 - val_loss: 0.4141 - val_accuracy: 0.7969\n",
      "Epoch 24/25\n",
      "2343/2343 [==============================] - 403s 172ms/step - loss: 0.4456 - accuracy: 0.7862 - val_loss: 0.4129 - val_accuracy: 0.7988\n",
      "Epoch 25/25\n",
      "2343/2343 [==============================] - 403s 172ms/step - loss: 0.4446 - accuracy: 0.7872 - val_loss: 0.4035 - val_accuracy: 0.8047\n"
     ]
    }
   ],
   "source": [
    "history = model.fit(X_train1, y_train1, shuffle=True, validation_data=(X_valid, y_valid), batch_size=batch_size, epochs=epochs)"
   ]
  },
  {
   "cell_type": "markdown",
   "metadata": {},
   "source": [
    "# Evaluate the model performance"
   ]
  },
  {
   "cell_type": "code",
   "execution_count": 13,
   "metadata": {
    "jupyter": {
     "outputs_hidden": false
    },
    "pycharm": {
     "name": "#%%\n"
    }
   },
   "outputs": [
    {
     "name": "stdout",
     "output_type": "stream",
     "text": [
      "Test accuracy :  0.7933899760246277\n"
     ]
    },
    {
     "data": {
      "image/png": "[encoded data removed]",
      "text/plain": [
       "<Figure size 432x288 with 1 Axes>"
      ]
     },
     "metadata": {
      "needs_background": "light"
     },
     "output_type": "display_data"
    }
   ],
   "source": [
    "scores = model.evaluate(X_test, y_test, verbose=0)\n",
    "print(\"Test accuracy : \", scores[1])\n",
    "\n",
    "\n",
    "loss = history.history['loss']\n",
    "loss_val = history.history['val_loss']\n",
    "accuracy = history.history['accuracy']\n",
    "accuracy_val = history.history['val_accuracy']\n",
    "epochs = range(1, len(loss)+1)\n",
    "\n",
    "plt.plot(epochs, loss, 'b', label='Training loss')\n",
    "plt.plot(epochs, loss_val, 'b--', label='validation loss')\n",
    "plt.plot(epochs, accuracy, 'r', label='Training accuracy')\n",
    "plt.plot(epochs, accuracy_val, 'r--', label='validation accuracy')\n",
    "\n",
    "plt.title('Training and Validation loss')\n",
    "plt.xlabel('Epochs')\n",
    "plt.legend()\n",
    "plt.grid()\n",
    "plt.show()"
   ]
  },
  {
   "cell_type": "code",
   "execution_count": 14,
   "metadata": {},
   "outputs": [
    {
     "name": "stdout",
     "output_type": "stream",
     "text": [
      "0,7933899760246277\n"
     ]
    },
    {
     "data": {
      "text/plain": [
       "<Figure size 432x288 with 0 Axes>"
      ]
     },
     "metadata": {},
     "output_type": "display_data"
    }
   ],
   "source": [
    "# Save the plot with few caracteristics in the name\n",
    "scores[1] = str(scores[1]).replace(\".\",\",\")\n",
    "lstm_dropout = str(lstm_dropout).replace(\".\",\",\")\n",
    "print(scores[1])\n",
    "plt.savefig('Word2Vec 2BidiLSTM score {} drop {} sizeLSTM {}.png'.format(scores[1], lstm_dropout, lstm_size))"
   ]
  },
  {
   "cell_type": "code",
   "execution_count": null,
   "metadata": {},
   "outputs": [],
   "source": []
  }
 ],
 "metadata": {
  "environment": {
   "name": "tf2-2-3-gpu.2-3.m58",
   "type": "gcloud",
   "uri": "gcr.io/deeplearning-platform-release/tf2-2-3-gpu.2-3:m58"
  },
  "kernelspec": {
   "display_name": "Python 3",
   "language": "python",
   "name": "python3"
  },
  "language_info": {
   "codemirror_mode": {
    "name": "ipython",
    "version": 3
   },
   "file_extension": ".py",
   "mimetype": "text/x-python",
   "name": "python",
   "nbconvert_exporter": "python",
   "pygments_lexer": "ipython3",
   "version": "3.7.8"
  },
  "pycharm": {
   "stem_cell": {
    "cell_type": "raw",
    "metadata": {
     "collapsed": false
    },
    "source": []
   }
  }
 },
 "nbformat": 4,
 "nbformat_minor": 4
}
