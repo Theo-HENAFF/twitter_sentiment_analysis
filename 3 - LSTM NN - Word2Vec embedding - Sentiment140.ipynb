{
 "cells": [
  {
   "cell_type": "code",
   "execution_count": 1,
   "metadata": {
    "pycharm": {
     "is_executing": false
    }
   },
   "outputs": [
    {
     "name": "stderr",
     "output_type": "stream",
     "text": [
      "Using TensorFlow backend.\n"
     ]
    }
   ],
   "source": [
    "import pandas as pd\n",
    "import numpy as np\n",
    "from gensim.models import Word2Vec\n",
    "\n",
    "from keras.preprocessing.text import Tokenizer\n",
    "from keras.preprocessing.sequence import pad_sequences\n",
    "from keras.models import Sequential\n",
    "from keras.layers import Embedding, LSTM, Dense, Bidirectional\n",
    "\n",
    "from sklearn.model_selection import train_test_split\n",
    "\n",
    "import tensorflow as tf\n",
    "import matplotlib.pyplot as plt"
   ]
  },
  {
   "cell_type": "markdown",
   "metadata": {
    "pycharm": {
     "name": "#%% md\n"
    }
   },
   "source": [
    "# Setup GPU\n",
    "In order not to be sure that there is a GPU available for faster computing (x8 to 20 times faster)"
   ]
  },
  {
   "cell_type": "code",
   "execution_count": 2,
   "metadata": {
    "jupyter": {
     "outputs_hidden": false
    },
    "pycharm": {
     "name": "#%%\n"
    }
   },
   "outputs": [
    {
     "name": "stdout",
     "output_type": "stream",
     "text": [
      "1 Physical GPUs, 1 Logical GPUs\n"
     ]
    }
   ],
   "source": [
    "gpus = tf.config.experimental.list_physical_devices('GPU')\n",
    "if gpus:\n",
    "    # Restrict TensorFlow to only allocate 1GB of memory on the first GPU\n",
    "    try:\n",
    "        # Uncomment the 3 next lines if you want to limit GPU memory usage\n",
    "        # tf.config.experimental.set_virtual_device_configuration(\n",
    "            # gpus[0],\n",
    "            # [tf.config.experimental.VirtualDeviceConfiguration(memory_limit=10240)])\n",
    "        logical_gpus = tf.config.experimental.list_logical_devices('GPU')\n",
    "        print(len(gpus), \"Physical GPUs,\", len(logical_gpus), \"Logical GPUs\")\n",
    "    except RuntimeError as e:\n",
    "        # Virtual devices must be set before GPUs have been initialized\n",
    "        print(e)"
   ]
  },
  {
   "cell_type": "markdown",
   "metadata": {
    "pycharm": {
     "name": "#%% md\n"
    }
   },
   "source": [
    "# Parameters"
   ]
  },
  {
   "cell_type": "code",
   "execution_count": 3,
   "metadata": {
    "jupyter": {
     "outputs_hidden": false
    },
    "pycharm": {
     "name": "#%%\n"
    }
   },
   "outputs": [],
   "source": [
    "# Word2Vec parameters\n",
    "min_count_word2vec = 30\n",
    "# NN s general parameters\n",
    "batch_size = 512\n",
    "epochs = 50\n",
    "test_size=0.25\n",
    "# LSTM s parameters\n",
    "lstm_size = 256\n",
    "lstm_dropout = 0.6\n",
    "lstm_recurrent_dropout = 0.0"
   ]
  },
  {
   "cell_type": "markdown",
   "metadata": {
    "pycharm": {
     "name": "#%% md\n"
    }
   },
   "source": [
    "# Import cleaned_data CSV"
   ]
  },
  {
   "cell_type": "code",
   "execution_count": 4,
   "metadata": {
    "jupyter": {
     "outputs_hidden": false
    },
    "pycharm": {
     "name": "#%%\n"
    }
   },
   "outputs": [
    {
     "name": "stdout",
     "output_type": "stream",
     "text": [
      "   polarity                                               text  \\\n",
      "0         0  @switchfoot http://twitpic.com/2y1zl - Awww, t...   \n",
      "1         0  is upset that he can't update his Facebook by ...   \n",
      "2         0  @Kenichan I dived many times for the ball. Man...   \n",
      "3         0    my whole body feels itchy and like its on fire    \n",
      "4         0  @nationwideclass no, it's not behaving at all....   \n",
      "\n",
      "                                          clean_text  \n",
      "0   awww bummer you shoulda got david carr third day  \n",
      "1  upset updat facebook text might cri result sch...  \n",
      "2      dive mani time ball manag save the rest bound  \n",
      "3                    whole bodi feel itchi like fire  \n",
      "4                                      behav mad see  \n"
     ]
    }
   ],
   "source": [
    "df = pd.read_csv(\n",
    "    \"cleaned_data.csv\",\n",
    "    encoding='latin-1')\n",
    "df['clean_text'] = df.clean_text.astype(str)\n",
    "\n",
    "print(df.head())"
   ]
  },
  {
   "cell_type": "markdown",
   "metadata": {
    "pycharm": {
     "name": "#%% md\n"
    }
   },
   "source": [
    "# Load Word2Vec model"
   ]
  },
  {
   "cell_type": "code",
   "execution_count": 5,
   "metadata": {
    "jupyter": {
     "outputs_hidden": false
    },
    "pycharm": {
     "name": "#%%\n"
    }
   },
   "outputs": [],
   "source": [
    "from gensim.models import KeyedVectors\n",
    "\n",
    "# Load pretrained model (since intermediate data is not included, the model cannot be refined with additional data)\n",
    "model_Word2Vec = KeyedVectors.load_word2vec_format('word2vec_twitter_tokens.bin', binary=True, unicode_errors='ignore')\n",
    "\n",
    "size_word2vec = model_Word2Vec.vector_size"
   ]
  },
  {
   "cell_type": "markdown",
   "metadata": {},
   "source": [
    "# Define functions to create the word2vec weight matrix"
   ]
  },
  {
   "cell_type": "code",
   "execution_count": 6,
   "metadata": {
    "jupyter": {
     "outputs_hidden": false
    },
    "pycharm": {
     "name": "#%%\n"
    }
   },
   "outputs": [],
   "source": [
    "def get_weight_matrix(vocab):\n",
    "    vocab_size = len(vocab) + 1\n",
    "    # define weight matrix dimensions with all 0\n",
    "    weight_matrix = np.zeros((vocab_size, size_word2vec))\n",
    "\n",
    "    for w, i in vocab.items():\n",
    "        # The word_index contains a token for all words of the training data so we need to limit that\n",
    "        if i < vocab_size:\n",
    "            try:\n",
    "                vect = model_Word2Vec.wv.get_vector(w)\n",
    "                weight_matrix[i] = vect\n",
    "            # Check if the word from the training data occurs in the GloVe word embeddings\n",
    "            # Otherwise the vector is kept with only zeros\n",
    "            except:\n",
    "                pass\n",
    "        else:\n",
    "            break\n",
    "    return weight_matrix"
   ]
  },
  {
   "cell_type": "markdown",
   "metadata": {},
   "source": [
    "# Convert text to vector"
   ]
  },
  {
   "cell_type": "code",
   "execution_count": 7,
   "metadata": {
    "jupyter": {
     "outputs_hidden": false
    },
    "pycharm": {
     "name": "#%%\n"
    }
   },
   "outputs": [],
   "source": [
    "max_length = max([len(s.split()) for s in df['clean_text']])\n",
    "# fit the tokenizer on the documents\n",
    "tk = Tokenizer(lower=True)\n",
    "tk.fit_on_texts(df['clean_text'].values)\n",
    "\n",
    "# transform each text into a list of tokens\n",
    "X_seq = tk.texts_to_sequences(df['clean_text'].values)\n",
    "X_pad = pad_sequences(X_seq, maxlen=max_length, padding='post')"
   ]
  },
  {
   "cell_type": "markdown",
   "metadata": {},
   "source": [
    "# Create weight matrix and set the embedding layer"
   ]
  },
  {
   "cell_type": "code",
   "execution_count": 8,
   "metadata": {},
   "outputs": [
    {
     "name": "stderr",
     "output_type": "stream",
     "text": [
      "/opt/conda/lib/python3.7/site-packages/ipykernel_launcher.py:10: DeprecationWarning: Call to deprecated `wv` (Attribute will be removed in 4.0.0, use self instead).\n",
      "  # Remove the CWD from sys.path while we load stuff.\n"
     ]
    }
   ],
   "source": [
    "# define vocabulary size (largest integer value)\n",
    "vocab_size = len(tk.word_index) + 1\n",
    "\n",
    "# create the embedding layer\n",
    "embedding_vectors = get_weight_matrix(tk.word_index)\n",
    "embedding_layer = Embedding(vocab_size, size_word2vec, input_length=max_length, trainable=False, weights=[embedding_vectors])"
   ]
  },
  {
   "cell_type": "markdown",
   "metadata": {},
   "source": [
    "# Split test/train data"
   ]
  },
  {
   "cell_type": "code",
   "execution_count": 9,
   "metadata": {
    "jupyter": {
     "outputs_hidden": false
    },
    "pycharm": {
     "name": "#%%\n"
    }
   },
   "outputs": [],
   "source": [
    "X_train, X_test, y_train, y_test = train_test_split(X_pad, df['polarity'].values, test_size=test_size, random_state=1, shuffle=True)\n",
    "\n",
    "# split train and validation set\n",
    "X_train1 = X_train[batch_size:]\n",
    "y_train1 = y_train[batch_size:]\n",
    "X_valid = X_train[:batch_size]\n",
    "y_valid = y_train[:batch_size]"
   ]
  },
  {
   "cell_type": "markdown",
   "metadata": {},
   "source": [
    "# Model description"
   ]
  },
  {
   "cell_type": "code",
   "execution_count": 10,
   "metadata": {
    "jupyter": {
     "outputs_hidden": false
    },
    "pycharm": {
     "name": "#%%\n"
    }
   },
   "outputs": [],
   "source": [
    "model = Sequential()\n",
    "\n",
    "model.add(embedding_layer)\n",
    "model.add(Bidirectional(LSTM(lstm_size, dropout=lstm_dropout, recurrent_dropout=lstm_recurrent_dropout, return_sequences=True)))\n",
    "model.add(Bidirectional(LSTM(lstm_size, dropout=lstm_dropout, recurrent_dropout=lstm_recurrent_dropout)))\n",
    "model.add(Dense(1, activation='sigmoid'))\n",
    "\n",
    "model.compile(loss='binary_crossentropy', optimizer='adam', metrics=['accuracy'])"
   ]
  },
  {
   "cell_type": "markdown",
   "metadata": {},
   "source": [
    "# Model training"
   ]
  },
  {
   "cell_type": "code",
   "execution_count": 11,
   "metadata": {},
   "outputs": [
    {
     "name": "stdout",
     "output_type": "stream",
     "text": [
      "Epoch 1/50\n",
      "2343/2343 [==============================] - 496s 212ms/step - loss: 0.4965 - accuracy: 0.7546 - val_loss: 0.4390 - val_accuracy: 0.7988\n",
      "Epoch 2/50\n",
      "2343/2343 [==============================] - 495s 211ms/step - loss: 0.4664 - accuracy: 0.7749 - val_loss: 0.4334 - val_accuracy: 0.8008\n",
      "Epoch 3/50\n",
      "2343/2343 [==============================] - 499s 213ms/step - loss: 0.4546 - accuracy: 0.7823 - val_loss: 0.4247 - val_accuracy: 0.8008\n",
      "Epoch 4/50\n",
      "2343/2343 [==============================] - 515s 220ms/step - loss: 0.4463 - accuracy: 0.7875 - val_loss: 0.4179 - val_accuracy: 0.7969\n",
      "Epoch 5/50\n",
      "2343/2343 [==============================] - 579s 247ms/step - loss: 0.4398 - accuracy: 0.7915 - val_loss: 0.4175 - val_accuracy: 0.7930\n",
      "Epoch 6/50\n",
      "2343/2343 [==============================] - 511s 218ms/step - loss: 0.4346 - accuracy: 0.7945 - val_loss: 0.4132 - val_accuracy: 0.7969\n",
      "Epoch 7/50\n",
      "2343/2343 [==============================] - 492s 210ms/step - loss: 0.4297 - accuracy: 0.7972 - val_loss: 0.4057 - val_accuracy: 0.8027\n",
      "Epoch 8/50\n",
      "2343/2343 [==============================] - 493s 210ms/step - loss: 0.4254 - accuracy: 0.7998 - val_loss: 0.4053 - val_accuracy: 0.8105\n",
      "Epoch 9/50\n",
      "2343/2343 [==============================] - 493s 211ms/step - loss: 0.4215 - accuracy: 0.8018 - val_loss: 0.4061 - val_accuracy: 0.8086\n",
      "Epoch 10/50\n",
      "2343/2343 [==============================] - 493s 211ms/step - loss: 0.4178 - accuracy: 0.8041 - val_loss: 0.4140 - val_accuracy: 0.8027\n",
      "Epoch 11/50\n",
      "2343/2343 [==============================] - 492s 210ms/step - loss: 0.4143 - accuracy: 0.8062 - val_loss: 0.4110 - val_accuracy: 0.8027\n",
      "Epoch 12/50\n",
      "2343/2343 [==============================] - 493s 210ms/step - loss: 0.4113 - accuracy: 0.8077 - val_loss: 0.4161 - val_accuracy: 0.8047\n",
      "Epoch 13/50\n",
      "2343/2343 [==============================] - 493s 210ms/step - loss: 0.4086 - accuracy: 0.8092 - val_loss: 0.4166 - val_accuracy: 0.7949\n",
      "Epoch 14/50\n",
      "2343/2343 [==============================] - 492s 210ms/step - loss: 0.4058 - accuracy: 0.8108 - val_loss: 0.4129 - val_accuracy: 0.8008\n",
      "Epoch 15/50\n",
      "2343/2343 [==============================] - 492s 210ms/step - loss: 0.4030 - accuracy: 0.8123 - val_loss: 0.4102 - val_accuracy: 0.7949\n",
      "Epoch 16/50\n",
      "2343/2343 [==============================] - 526s 224ms/step - loss: 0.4006 - accuracy: 0.8136 - val_loss: 0.4165 - val_accuracy: 0.8027\n",
      "Epoch 17/50\n",
      "2343/2343 [==============================] - 526s 224ms/step - loss: 0.3986 - accuracy: 0.8153 - val_loss: 0.4160 - val_accuracy: 0.7949\n",
      "Epoch 18/50\n",
      "2343/2343 [==============================] - 524s 224ms/step - loss: 0.3965 - accuracy: 0.8159 - val_loss: 0.4150 - val_accuracy: 0.8047\n",
      "Epoch 19/50\n",
      "2343/2343 [==============================] - 499s 213ms/step - loss: 0.3947 - accuracy: 0.8169 - val_loss: 0.4153 - val_accuracy: 0.8027\n",
      "Epoch 20/50\n",
      "2343/2343 [==============================] - 498s 213ms/step - loss: 0.3928 - accuracy: 0.8181 - val_loss: 0.4213 - val_accuracy: 0.7988\n",
      "Epoch 21/50\n",
      "2343/2343 [==============================] - 498s 213ms/step - loss: 0.3909 - accuracy: 0.8187 - val_loss: 0.4213 - val_accuracy: 0.8125\n",
      "Epoch 22/50\n",
      "2343/2343 [==============================] - 499s 213ms/step - loss: 0.3890 - accuracy: 0.8201 - val_loss: 0.4247 - val_accuracy: 0.8008\n",
      "Epoch 23/50\n",
      "2343/2343 [==============================] - 497s 212ms/step - loss: 0.3876 - accuracy: 0.8207 - val_loss: 0.4209 - val_accuracy: 0.7891\n",
      "Epoch 24/50\n",
      "2343/2343 [==============================] - 496s 212ms/step - loss: 0.3862 - accuracy: 0.8216 - val_loss: 0.4181 - val_accuracy: 0.7969\n",
      "Epoch 25/50\n",
      "2343/2343 [==============================] - 493s 210ms/step - loss: 0.3844 - accuracy: 0.8223 - val_loss: 0.4249 - val_accuracy: 0.8027\n",
      "Epoch 26/50\n",
      "2343/2343 [==============================] - 492s 210ms/step - loss: 0.3831 - accuracy: 0.8233 - val_loss: 0.4159 - val_accuracy: 0.7988\n",
      "Epoch 27/50\n",
      "2343/2343 [==============================] - 492s 210ms/step - loss: 0.3820 - accuracy: 0.8236 - val_loss: 0.4241 - val_accuracy: 0.8008\n",
      "Epoch 28/50\n",
      "2343/2343 [==============================] - 498s 213ms/step - loss: 0.3809 - accuracy: 0.8245 - val_loss: 0.4172 - val_accuracy: 0.7988\n",
      "Epoch 29/50\n",
      "2343/2343 [==============================] - 498s 213ms/step - loss: 0.3794 - accuracy: 0.8254 - val_loss: 0.4175 - val_accuracy: 0.8145\n",
      "Epoch 30/50\n",
      "2343/2343 [==============================] - 497s 212ms/step - loss: 0.3784 - accuracy: 0.8253 - val_loss: 0.4256 - val_accuracy: 0.7969\n",
      "Epoch 31/50\n",
      "2343/2343 [==============================] - 496s 212ms/step - loss: 0.3770 - accuracy: 0.8260 - val_loss: 0.4218 - val_accuracy: 0.8066\n",
      "Epoch 32/50\n",
      "2343/2343 [==============================] - 496s 212ms/step - loss: 0.3764 - accuracy: 0.8269 - val_loss: 0.4148 - val_accuracy: 0.8008\n",
      "Epoch 33/50\n",
      "2343/2343 [==============================] - 498s 212ms/step - loss: 0.3755 - accuracy: 0.8272 - val_loss: 0.4249 - val_accuracy: 0.7949\n",
      "Epoch 34/50\n",
      "2343/2343 [==============================] - 501s 214ms/step - loss: 0.3740 - accuracy: 0.8279 - val_loss: 0.4297 - val_accuracy: 0.8066\n",
      "Epoch 35/50\n",
      "2343/2343 [==============================] - 497s 212ms/step - loss: 0.3735 - accuracy: 0.8281 - val_loss: 0.4317 - val_accuracy: 0.7969\n",
      "Epoch 36/50\n",
      "2343/2343 [==============================] - 498s 213ms/step - loss: 0.3728 - accuracy: 0.8289 - val_loss: 0.4439 - val_accuracy: 0.7949\n",
      "Epoch 37/50\n",
      "2343/2343 [==============================] - 498s 212ms/step - loss: 0.3715 - accuracy: 0.8288 - val_loss: 0.4334 - val_accuracy: 0.8047\n",
      "Epoch 38/50\n",
      "2343/2343 [==============================] - 498s 212ms/step - loss: 0.3708 - accuracy: 0.8294 - val_loss: 0.4297 - val_accuracy: 0.8027\n",
      "Epoch 39/50\n",
      "2343/2343 [==============================] - 496s 212ms/step - loss: 0.3695 - accuracy: 0.8304 - val_loss: 0.4358 - val_accuracy: 0.7988\n",
      "Epoch 40/50\n",
      "2343/2343 [==============================] - 515s 220ms/step - loss: 0.3689 - accuracy: 0.8304 - val_loss: 0.4525 - val_accuracy: 0.8008\n",
      "Epoch 41/50\n",
      "2343/2343 [==============================] - 517s 221ms/step - loss: 0.3680 - accuracy: 0.8310 - val_loss: 0.4441 - val_accuracy: 0.7949\n",
      "Epoch 42/50\n",
      "2343/2343 [==============================] - 514s 219ms/step - loss: 0.3671 - accuracy: 0.8312 - val_loss: 0.4516 - val_accuracy: 0.7930\n",
      "Epoch 43/50\n",
      "2343/2343 [==============================] - 502s 214ms/step - loss: 0.3661 - accuracy: 0.8319 - val_loss: 0.4445 - val_accuracy: 0.7812\n",
      "Epoch 44/50\n",
      "2343/2343 [==============================] - 517s 221ms/step - loss: 0.3658 - accuracy: 0.8326 - val_loss: 0.4472 - val_accuracy: 0.7988\n",
      "Epoch 45/50\n",
      "2343/2343 [==============================] - 516s 220ms/step - loss: 0.3651 - accuracy: 0.8327 - val_loss: 0.4522 - val_accuracy: 0.7969\n",
      "Epoch 46/50\n",
      "2343/2343 [==============================] - 497s 212ms/step - loss: 0.3643 - accuracy: 0.8328 - val_loss: 0.4436 - val_accuracy: 0.7949\n",
      "Epoch 47/50\n",
      "2343/2343 [==============================] - 496s 212ms/step - loss: 0.3633 - accuracy: 0.8333 - val_loss: 0.4450 - val_accuracy: 0.8047\n",
      "Epoch 48/50\n",
      "2343/2343 [==============================] - 498s 212ms/step - loss: 0.3629 - accuracy: 0.8338 - val_loss: 0.4525 - val_accuracy: 0.7969\n",
      "Epoch 49/50\n",
      "2343/2343 [==============================] - 498s 213ms/step - loss: 0.3620 - accuracy: 0.8341 - val_loss: 0.4536 - val_accuracy: 0.7988\n",
      "Epoch 50/50\n",
      "2343/2343 [==============================] - 497s 212ms/step - loss: 0.3616 - accuracy: 0.8345 - val_loss: 0.4519 - val_accuracy: 0.8066\n"
     ]
    }
   ],
   "source": [
    "history = model.fit(X_train1, y_train1, shuffle=True, validation_data=(X_valid, y_valid), batch_size=batch_size, epochs=epochs)"
   ]
  },
  {
   "cell_type": "markdown",
   "metadata": {},
   "source": [
    "# Evaluate the model performance"
   ]
  },
  {
   "cell_type": "code",
   "execution_count": 12,
   "metadata": {
    "jupyter": {
     "outputs_hidden": false
    },
    "pycharm": {
     "name": "#%%\n"
    }
   },
   "outputs": [
    {
     "name": "stdout",
     "output_type": "stream",
     "text": [
      "Test accuracy :  0.7914350032806396\n"
     ]
    },
    {
     "data": {
      "image/png": "[encoded data removed]",
      "text/plain": [
       "<Figure size 432x288 with 1 Axes>"
      ]
     },
     "metadata": {
      "needs_background": "light"
     },
     "output_type": "display_data"
    }
   ],
   "source": [
    "scores = model.evaluate(X_test, y_test, verbose=0)\n",
    "print(\"Test accuracy : \", scores[1])\n",
    "\n",
    "\n",
    "loss = history.history['loss']\n",
    "loss_val = history.history['val_loss']\n",
    "accuracy = history.history['accuracy']\n",
    "accuracy_val = history.history['val_accuracy']\n",
    "epochs = range(1, len(loss)+1)\n",
    "\n",
    "plt.plot(epochs, loss, 'b', label='Training loss')\n",
    "plt.plot(epochs, loss_val, 'b--', label='validation loss')\n",
    "plt.plot(epochs, accuracy, 'r', label='Training accuracy')\n",
    "plt.plot(epochs, accuracy_val, 'r--', label='validation accuracy')\n",
    "\n",
    "plt.title('Training and Validation loss')\n",
    "plt.xlabel('Epochs')\n",
    "plt.legend()\n",
    "plt.grid()\n",
    "plt.show()"
   ]
  },
  {
   "cell_type": "code",
   "execution_count": 13,
   "metadata": {},
   "outputs": [
    {
     "name": "stdout",
     "output_type": "stream",
     "text": [
      "0,7914350032806396\n"
     ]
    },
    {
     "data": {
      "text/plain": [
       "<Figure size 432x288 with 0 Axes>"
      ]
     },
     "metadata": {},
     "output_type": "display_data"
    }
   ],
   "source": [
    "# Save the plot with few caracteristics in the name\n",
    "scores[1] = str(scores[1]).replace(\".\",\",\")\n",
    "lstm_dropout = str(lstm_dropout).replace(\".\",\",\")\n",
    "print(scores[1])\n",
    "plt.savefig('Word2Vec 2BidiLSTM score {} drop {} sizeLSTM {}.png'.format(scores[1], lstm_dropout, lstm_size))"
   ]
  },
  {
   "cell_type": "code",
   "execution_count": null,
   "metadata": {},
   "outputs": [],
   "source": []
  }
 ],
 "metadata": {
  "environment": {
   "name": "tf2-2-3-gpu.2-3.m58",
   "type": "gcloud",
   "uri": "gcr.io/deeplearning-platform-release/tf2-2-3-gpu.2-3:m58"
  },
  "kernelspec": {
   "display_name": "Python 3",
   "language": "python",
   "name": "python3"
  },
  "language_info": {
   "codemirror_mode": {
    "name": "ipython",
    "version": 3
   },
   "file_extension": ".py",
   "mimetype": "text/x-python",
   "name": "python",
   "nbconvert_exporter": "python",
   "pygments_lexer": "ipython3",
   "version": "3.7.8"
  },
  "pycharm": {
   "stem_cell": {
    "cell_type": "raw",
    "metadata": {
     "collapsed": false
    },
    "source": []
   }
  }
 },
 "nbformat": 4,
 "nbformat_minor": 4
}
