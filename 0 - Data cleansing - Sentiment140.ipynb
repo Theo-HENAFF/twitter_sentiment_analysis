{
 "cells": [
  {
   "cell_type": "code",
   "execution_count": null,
   "metadata": {},
   "outputs": [],
   "source": [
    "import string\n",
    "import pandas as pd\n",
    "import nltk\n",
    "import re\n",
    "\n",
    "nltk.download('stopwords')\n",
    "nltk.download('wordnet')"
   ]
  },
  {
   "cell_type": "code",
   "execution_count": null,
   "metadata": {},
   "outputs": [],
   "source": [
    "def clean_text(text):\n",
    "    # remove users tags and url\n",
    "    text = ' '.join(re.sub(\"(@[A-Za-z0-9]+)|([^0-9A-Za-z \\t])|(\\w+:\\/\\/\\S+)\", \" \", text).split())\n",
    "    # remove punctuation\n",
    "    text = \"\".join([char for char in text if char not in string.punctuation])\n",
    "    text = re.sub('[0-9]+', '', text)\n",
    "    # tokenize\n",
    "    text = re.split('\\W+', text)\n",
    "    # remove stop-word\n",
    "    stopword = nltk.corpus.stopwords.words('english')\n",
    "    text = [word for word in text if word not in stopword]\n",
    "    # Stemming\n",
    "    ps = nltk.PorterStemmer()\n",
    "    text = [ps.stem(word) for word in text]\n",
    "    # Lammitization\n",
    "    wn = nltk.WordNetLemmatizer()\n",
    "    text = [wn.lemmatize(word) for word in text]\n",
    "    # remove empty words\n",
    "    text = [word for word in text if word != '']\n",
    "    # rejoin for easier one-hot extraction\n",
    "    text = ' '.join(text)\n",
    "    # remove one letters words\n",
    "    new_text = []\n",
    "    for w in text.split(\" \"):\n",
    "        if len(w) > 1:\n",
    "            new_text.append(w)\n",
    "    text = \" \"\n",
    "    return text.join(new_text)"
   ]
  },
  {
   "cell_type": "markdown",
   "metadata": {},
   "source": [
    "# Load and preapre the dataset"
   ]
  },
  {
   "cell_type": "code",
   "execution_count": null,
   "metadata": {},
   "outputs": [],
   "source": [
    "data = pd.read_csv(\n",
    "     \"training.1600000.processed.noemoticon.csv\",\n",
    "     header=None,\n",
    "     encoding='latin-1',\n",
    "     usecols=[0, 5])\n",
    "\n",
    "# available columns are [0,1,2,4,5]=['polarity', 'id', 'date', 'user', 'text']\n",
    "\n",
    "data.columns = ['polarity', 'text']\n",
    "data['polarity'] = pd.to_numeric(data['polarity'], downcast='integer')\n",
    "\n",
    "# 0 ->[1,0] negative ou 0, 4 ->[0,1] positive ou 1\n",
    "data.polarity = data.polarity.replace({0: 0, 4: 1})"
   ]
  },
  {
   "cell_type": "markdown",
   "metadata": {},
   "source": [
    "# Cleanse the data"
   ]
  },
  {
   "cell_type": "code",
   "execution_count": null,
   "metadata": {},
   "outputs": [],
   "source": [
    "data['clean_text'] = data['text'].apply(lambda x: clean_text(x))"
   ]
  },
  {
   "cell_type": "markdown",
   "metadata": {},
   "source": [
    "# Save dataframe to cleaned_data.csv"
   ]
  },
  {
   "cell_type": "code",
   "execution_count": null,
   "metadata": {},
   "outputs": [],
   "source": [
    "data.to_csv(r'cleaned_data.csv', index = False)"
   ]
  }
 ],
 "metadata": {
  "kernelspec": {
   "display_name": "Python 3",
   "language": "python",
   "name": "python3"
  },
  "language_info": {
   "codemirror_mode": {
    "name": "ipython",
    "version": 3
   },
   "file_extension": ".py",
   "mimetype": "text/x-python",
   "name": "python",
   "nbconvert_exporter": "python",
   "pygments_lexer": "ipython3",
   "version": "3.7.8"
  }
 },
 "nbformat": 4,
 "nbformat_minor": 2
}
