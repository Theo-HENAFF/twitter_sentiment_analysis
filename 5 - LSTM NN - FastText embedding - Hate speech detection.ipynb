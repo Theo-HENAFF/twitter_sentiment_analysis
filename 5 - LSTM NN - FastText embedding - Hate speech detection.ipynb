{
 "cells": [
  {
   "cell_type": "code",
   "execution_count": 1,
   "metadata": {},
   "outputs": [
    {
     "name": "stderr",
     "output_type": "stream",
     "text": [
      "[nltk_data] Downloading package stopwords to /home/HENAFF/nltk_data...\n",
      "[nltk_data]   Package stopwords is already up-to-date!\n",
      "[nltk_data] Downloading package wordnet to /home/HENAFF/nltk_data...\n",
      "[nltk_data]   Package wordnet is already up-to-date!\n",
      "Using TensorFlow backend.\n"
     ]
    }
   ],
   "source": [
    "import pandas as pd\n",
    "import numpy as np\n",
    "\n",
    "import string\n",
    "import nltk\n",
    "import re\n",
    "\n",
    "nltk.download('stopwords')\n",
    "nltk.download('wordnet')\n",
    "\n",
    "from keras.preprocessing.text import Tokenizer\n",
    "from keras.preprocessing.sequence import pad_sequences\n",
    "from keras.models import Sequential, load_model\n",
    "from keras.layers import Embedding, LSTM, Dense, Bidirectional\n",
    "from keras.wrappers.scikit_learn import KerasClassifier\n",
    "from keras.callbacks import Callback,ModelCheckpoint\n",
    "\n",
    "import keras.backend as K\n",
    "\n",
    "from sklearn.model_selection import train_test_split\n",
    "\n",
    "import tensorflow as tf\n",
    "\n",
    "import matplotlib.pyplot as plt"
   ]
  },
  {
   "cell_type": "markdown",
   "metadata": {
    "pycharm": {
     "name": "#%% md\n"
    }
   },
   "source": [
    "# Setup GPU\n",
    "In order not to be sure that there is a GPU available for faster computing (x8 to 20 times faster)"
   ]
  },
  {
   "cell_type": "code",
   "execution_count": 2,
   "metadata": {
    "jupyter": {
     "outputs_hidden": false
    },
    "pycharm": {
     "name": "#%%\n"
    },
    "scrolled": true
   },
   "outputs": [
    {
     "name": "stdout",
     "output_type": "stream",
     "text": [
      "1 Physical GPUs, 1 Logical GPUs\n"
     ]
    }
   ],
   "source": [
    "gpus = tf.config.experimental.list_physical_devices('GPU')\n",
    "if gpus:\n",
    "    # Restrict TensorFlow to only allocate 1GB of memory on the first GPU\n",
    "    try:\n",
    "        # Uncomment the 3 next lines if you want to limit GPU memory usage\n",
    "        # tf.config.experimental.set_virtual_device_configuration(\n",
    "            # gpus[0],\n",
    "            # [tf.config.experimental.VirtualDeviceConfiguration(memory_limit=10240)])\n",
    "        logical_gpus = tf.config.experimental.list_logical_devices('GPU')\n",
    "        print(len(gpus), \"Physical GPUs,\", len(logical_gpus), \"Logical GPUs\")\n",
    "    except RuntimeError as e:\n",
    "        # Virtual devices must be set before GPUs have been initialized\n",
    "        print(e)"
   ]
  },
  {
   "cell_type": "markdown",
   "metadata": {},
   "source": [
    "# Parameters"
   ]
  },
  {
   "cell_type": "code",
   "execution_count": 20,
   "metadata": {},
   "outputs": [],
   "source": [
    "# FastText parameters\n",
    "min_count_FastText = 5\n",
    "# NN s general parameters\n",
    "batch_size = 256\n",
    "epochs = 80\n",
    "test_size=0.25\n",
    "# LSTM s parameters\n",
    "lstm_size = 128\n",
    "lstm_dropout = 0.8\n",
    "lstm_recurrent_dropout = 0.2"
   ]
  },
  {
   "cell_type": "markdown",
   "metadata": {},
   "source": [
    "# Define f1_score as metrics\n",
    "We do not use accuracy as metrics because the dataset is unbalanced, we use f1_score which is a combination of both accuracy and recall  \n",
    "This piece of code is taken from this [medium article](https://medium.com/@aakashgoel12/how-to-add-user-defined-function-get-f1-score-in-keras-metrics-3013f979ce0d)\n"
   ]
  },
  {
   "cell_type": "code",
   "execution_count": 4,
   "metadata": {},
   "outputs": [],
   "source": [
    "def get_f1(y_true, y_pred): #taken from old keras source code\n",
    "    true_positives = K.sum(K.round(K.clip(y_true * y_pred, 0, 1)))\n",
    "    possible_positives = K.sum(K.round(K.clip(y_true, 0, 1)))\n",
    "    predicted_positives = K.sum(K.round(K.clip(y_pred, 0, 1)))\n",
    "    precision = true_positives / (predicted_positives + K.epsilon())\n",
    "    recall = true_positives / (possible_positives + K.epsilon())\n",
    "    f1_val = 2*(precision*recall)/(precision+recall+K.epsilon())\n",
    "    return f1_val"
   ]
  },
  {
   "cell_type": "markdown",
   "metadata": {},
   "source": [
    "# Import hate speech CSV\n",
    "Despite using this CSV in 2 scripts we import it and clean it in each script because the csv isn't very big"
   ]
  },
  {
   "cell_type": "code",
   "execution_count": 5,
   "metadata": {},
   "outputs": [
    {
     "name": "stdout",
     "output_type": "stream",
     "text": [
      "   polarity                                               text\n",
      "0         0   @user when a father is dysfunctional and is s...\n",
      "1         0  @user @user thanks for #lyft credit i can't us...\n",
      "2         0                                bihday your majesty\n",
      "3         0  #model   i love u take with u all the time in ...\n",
      "4         0             factsguide: society now    #motivation\n"
     ]
    }
   ],
   "source": [
    "data = pd.read_csv(\n",
    "    \"hate_speech_train.csv\",\n",
    "    encoding='latin-1',\n",
    "    usecols=[1, 2])\n",
    "\n",
    "# available columns are [0,1,2]=['id', 'label', 'tweet'], we normalize it like the whole project\n",
    "data.columns = ['polarity', 'text']\n",
    "data['polarity'] = pd.to_numeric(data['polarity'], downcast='integer')\n",
    "print(data.head())"
   ]
  },
  {
   "cell_type": "markdown",
   "metadata": {},
   "source": [
    "# Define the function to clean the dataframe"
   ]
  },
  {
   "cell_type": "code",
   "execution_count": 6,
   "metadata": {},
   "outputs": [],
   "source": [
    "def clean_text(text):\n",
    "    # remove users tags and url\n",
    "    text = ' '.join(re.sub(\"(@[A-Za-z0-9]+)|([^0-9A-Za-z \\t])|(\\w+:\\/\\/\\S+)\", \" \", text).split())\n",
    "    # remove punctuation\n",
    "    text = \"\".join([char for char in text if char not in string.punctuation])\n",
    "    text = re.sub('[0-9]+', '', text)\n",
    "    # tokenize\n",
    "    text = re.split('\\W+', text)\n",
    "    # remove stop-word\n",
    "    stopword = nltk.corpus.stopwords.words('english')\n",
    "    text = [word for word in text if word not in stopword]\n",
    "    \n",
    "    # After testing I've discovered that stemming and lammitization do not improve results\n",
    "    # Stemming\n",
    "    #ps = nltk.PorterStemmer()\n",
    "    #text = [ps.stem(word) for word in text]\n",
    "    # Lammitization\n",
    "    #wn = nltk.WordNetLemmatizer()\n",
    "    #text = [wn.lemmatize(word) for word in text]\n",
    "    \n",
    "    # remove empty words\n",
    "    text = [word for word in text if word != '']\n",
    "    # rejoin for easier one-hot extraction\n",
    "    text = ' '.join(text)\n",
    "    # remove one letters words\n",
    "    new_text = []\n",
    "    for w in text.split(\" \"):\n",
    "        if len(w) > 1:\n",
    "            new_text.append(w)\n",
    "    text = \" \"\n",
    "    \n",
    "    return text.join(new_text)"
   ]
  },
  {
   "cell_type": "markdown",
   "metadata": {},
   "source": [
    "# Clean the text"
   ]
  },
  {
   "cell_type": "code",
   "execution_count": 7,
   "metadata": {},
   "outputs": [],
   "source": [
    "data['clean_text'] = data['text'].apply(lambda x: clean_text(x))"
   ]
  },
  {
   "cell_type": "code",
   "execution_count": 29,
   "metadata": {},
   "outputs": [
    {
     "name": "stdout",
     "output_type": "stream",
     "text": [
      "   polarity                                               text  \\\n",
      "0         0   @user when a father is dysfunctional and is s...   \n",
      "1         0  @user @user thanks for #lyft credit i can't us...   \n",
      "2         0                                bihday your majesty   \n",
      "3         0  #model   i love u take with u all the time in ...   \n",
      "4         0             factsguide: society now    #motivation   \n",
      "\n",
      "                                          clean_text  \n",
      "0  father dysfunctional selfish drags kids dysfun...  \n",
      "1  thanks lyft credit use cause offer wheelchair ...  \n",
      "2                                     bihday majesty  \n",
      "3                            model love take time ur  \n",
      "4                      factsguide society motivation  \n"
     ]
    }
   ],
   "source": [
    "print(data.head())"
   ]
  },
  {
   "cell_type": "markdown",
   "metadata": {},
   "source": [
    "# Load FastText model"
   ]
  },
  {
   "cell_type": "code",
   "execution_count": 9,
   "metadata": {},
   "outputs": [
    {
     "name": "stderr",
     "output_type": "stream",
     "text": [
      "/opt/conda/lib/python3.7/site-packages/ipykernel_launcher.py:4: DeprecationWarning: Call to deprecated `load_fasttext_format` (use load_facebook_vectors (to use pretrained embeddings) or load_facebook_model (to continue training with the loaded full model, more RAM) instead).\n",
      "  after removing the cwd from sys.path.\n"
     ]
    }
   ],
   "source": [
    "from gensim.models import FastText\n",
    "\n",
    "# Load pretrained model (since intermediate data is not included, the model cannot be refined with additional data)\n",
    "model_FastText = FastText.load_fasttext_format('fasttext.bin', )\n",
    "\n",
    "size_FastText = model_FastText.vector_size"
   ]
  },
  {
   "cell_type": "markdown",
   "metadata": {},
   "source": [
    "# Define functions to create the FastText weight matrix\n",
    "To set it as weight into the embedding layer"
   ]
  },
  {
   "cell_type": "code",
   "execution_count": 10,
   "metadata": {
    "jupyter": {
     "outputs_hidden": false
    },
    "pycharm": {
     "name": "#%%\n"
    }
   },
   "outputs": [],
   "source": [
    "def get_weight_matrix(vocab):\n",
    "    vocab_size = len(vocab) + 1\n",
    "    # define weight matrix dimensions with all 0\n",
    "    weight_matrix = np.zeros((vocab_size, size_FastText))\n",
    "\n",
    "    for w, i in vocab.items():\n",
    "        # The word_index contains a token for all words of the training data so we need to limit that\n",
    "        if i < vocab_size:\n",
    "            try:\n",
    "                vect = model_FastText.wv.get_vector(w)\n",
    "                weight_matrix[i] = vect\n",
    "            # Check if the word from the training data occurs in the GloVe word embeddings\n",
    "            # Otherwise the vector is kept with only zeros\n",
    "            except:\n",
    "                pass\n",
    "        else:\n",
    "            break\n",
    "    return weight_matrix"
   ]
  },
  {
   "cell_type": "markdown",
   "metadata": {},
   "source": [
    "# Convert text to vector"
   ]
  },
  {
   "cell_type": "code",
   "execution_count": 11,
   "metadata": {
    "jupyter": {
     "outputs_hidden": false
    },
    "pycharm": {
     "name": "#%%\n"
    }
   },
   "outputs": [],
   "source": [
    "max_length = max([len(s.split()) for s in data['clean_text']])\n",
    "\n",
    "# fit the tokenizer on the documents\n",
    "tk = Tokenizer(lower=True)\n",
    "tk.fit_on_texts(data['clean_text'].values)\n",
    "\n",
    "# transform each text into a list of tokens\n",
    "X_seq = tk.texts_to_sequences(data['clean_text'].values)\n",
    "X_pad = pad_sequences(X_seq, maxlen=max_length, padding='post')"
   ]
  },
  {
   "cell_type": "markdown",
   "metadata": {},
   "source": [
    "# Create weight matrix and set the embedding layer"
   ]
  },
  {
   "cell_type": "code",
   "execution_count": 12,
   "metadata": {},
   "outputs": [],
   "source": [
    "# define vocabulary size (largest integer value)\n",
    "vocab_size = len(tk.word_index) + 1\n",
    "\n",
    "# create the embedding layer\n",
    "embedding_vectors = get_weight_matrix(tk.word_index)\n",
    "embedding_layer = Embedding(vocab_size, size_FastText, input_length=max_length, trainable=False, weights=[embedding_vectors])"
   ]
  },
  {
   "cell_type": "markdown",
   "metadata": {},
   "source": [
    "# Split test/train data"
   ]
  },
  {
   "cell_type": "code",
   "execution_count": 13,
   "metadata": {},
   "outputs": [
    {
     "data": {
      "text/plain": [
       "2242"
      ]
     },
     "execution_count": 13,
     "metadata": {},
     "output_type": "execute_result"
    }
   ],
   "source": [
    "# Count hate comments because there is a minority of them\n",
    "data['polarity'].value_counts()[1]"
   ]
  },
  {
   "cell_type": "code",
   "execution_count": 14,
   "metadata": {},
   "outputs": [],
   "source": [
    "X_train, X_test, y_train, y_test = train_test_split(X_pad, data['polarity'].values, test_size=test_size, random_state=1, shuffle=True)\n",
    "\n",
    "X_train1 = X_train[batch_size:]\n",
    "y_train1 = y_train[batch_size:]\n",
    "X_valid = X_train[:batch_size]\n",
    "y_valid = y_train[:batch_size]"
   ]
  },
  {
   "cell_type": "markdown",
   "metadata": {},
   "source": [
    "# Oversample train data with SMOTE"
   ]
  },
  {
   "cell_type": "code",
   "execution_count": 15,
   "metadata": {},
   "outputs": [
    {
     "name": "stdout",
     "output_type": "stream",
     "text": [
      "Counter({0: 22269, 1: 22269})\n"
     ]
    }
   ],
   "source": [
    "from imblearn.over_sampling import SMOTE\n",
    "from collections import Counter\n",
    "\n",
    "# transform the dataset\n",
    "oversample = SMOTE()\n",
    "X_train, y_train = oversample.fit_resample(X_train, y_train)\n",
    "\n",
    "counter = Counter(y_train)\n",
    "print(counter)"
   ]
  },
  {
   "cell_type": "markdown",
   "metadata": {},
   "source": [
    "# Model description"
   ]
  },
  {
   "cell_type": "code",
   "execution_count": 21,
   "metadata": {},
   "outputs": [
    {
     "name": "stdout",
     "output_type": "stream",
     "text": [
      "WARNING:tensorflow:Layer lstm_1 will not use cuDNN kernel since it doesn't meet the cuDNN kernel criteria. It will use generic GPU kernel as fallback when running on GPU\n",
      "WARNING:tensorflow:Layer lstm_1 will not use cuDNN kernel since it doesn't meet the cuDNN kernel criteria. It will use generic GPU kernel as fallback when running on GPU\n",
      "WARNING:tensorflow:Layer lstm_1 will not use cuDNN kernel since it doesn't meet the cuDNN kernel criteria. It will use generic GPU kernel as fallback when running on GPU\n"
     ]
    }
   ],
   "source": [
    "model = Sequential()\n",
    "\n",
    "model.add(embedding_layer)\n",
    "model.add(Bidirectional(LSTM(lstm_size, dropout=lstm_dropout, recurrent_dropout=lstm_recurrent_dropout)))\n",
    "model.add(Dense(1, activation='sigmoid'))\n",
    "\n",
    "model.compile(loss='binary_crossentropy', optimizer='adam', metrics=[get_f1]) #metrics=['accuracy'])"
   ]
  },
  {
   "cell_type": "markdown",
   "metadata": {},
   "source": [
    "# Model training"
   ]
  },
  {
   "cell_type": "code",
   "execution_count": 22,
   "metadata": {},
   "outputs": [
    {
     "name": "stdout",
     "output_type": "stream",
     "text": [
      "Epoch 1/80\n",
      "93/93 [==============================] - 27s 286ms/step - loss: 0.2192 - get_f1: 0.2086 - val_loss: 0.1871 - val_get_f1: 0.4865\n",
      "Epoch 2/80\n",
      "93/93 [==============================] - 26s 279ms/step - loss: 0.1549 - get_f1: 0.4552 - val_loss: 0.1842 - val_get_f1: 0.4865\n",
      "Epoch 3/80\n",
      "93/93 [==============================] - 28s 297ms/step - loss: 0.1488 - get_f1: 0.4904 - val_loss: 0.1887 - val_get_f1: 0.4242\n",
      "Epoch 4/80\n",
      "93/93 [==============================] - 26s 284ms/step - loss: 0.1404 - get_f1: 0.5428 - val_loss: 0.1927 - val_get_f1: 0.4865\n",
      "Epoch 5/80\n",
      "93/93 [==============================] - 26s 277ms/step - loss: 0.1349 - get_f1: 0.5523 - val_loss: 0.1961 - val_get_f1: 0.4516\n",
      "Epoch 6/80\n",
      "93/93 [==============================] - 26s 280ms/step - loss: 0.1334 - get_f1: 0.5732 - val_loss: 0.1837 - val_get_f1: 0.5641\n",
      "Epoch 7/80\n",
      "93/93 [==============================] - 26s 279ms/step - loss: 0.1305 - get_f1: 0.5904 - val_loss: 0.1942 - val_get_f1: 0.3871\n",
      "Epoch 8/80\n",
      "93/93 [==============================] - 26s 282ms/step - loss: 0.1260 - get_f1: 0.6093 - val_loss: 0.1938 - val_get_f1: 0.5000\n",
      "Epoch 9/80\n",
      "93/93 [==============================] - 26s 279ms/step - loss: 0.1256 - get_f1: 0.6070 - val_loss: 0.2213 - val_get_f1: 0.3750\n",
      "Epoch 10/80\n",
      "93/93 [==============================] - 26s 279ms/step - loss: 0.1195 - get_f1: 0.6233 - val_loss: 0.1883 - val_get_f1: 0.3636\n",
      "Epoch 11/80\n",
      "93/93 [==============================] - 26s 278ms/step - loss: 0.1193 - get_f1: 0.6290 - val_loss: 0.1783 - val_get_f1: 0.4865\n",
      "Epoch 12/80\n",
      "93/93 [==============================] - 26s 282ms/step - loss: 0.1175 - get_f1: 0.6224 - val_loss: 0.1852 - val_get_f1: 0.3871\n",
      "Epoch 13/80\n",
      "93/93 [==============================] - 26s 279ms/step - loss: 0.1154 - get_f1: 0.6322 - val_loss: 0.1972 - val_get_f1: 0.3750\n",
      "Epoch 14/80\n",
      "93/93 [==============================] - 26s 283ms/step - loss: 0.1142 - get_f1: 0.6407 - val_loss: 0.2004 - val_get_f1: 0.3750\n",
      "Epoch 15/80\n",
      "93/93 [==============================] - 27s 294ms/step - loss: 0.1109 - get_f1: 0.6510 - val_loss: 0.1957 - val_get_f1: 0.5263\n",
      "Epoch 16/80\n",
      "93/93 [==============================] - 26s 279ms/step - loss: 0.1089 - get_f1: 0.6638 - val_loss: 0.2215 - val_get_f1: 0.4242\n",
      "Epoch 17/80\n",
      "93/93 [==============================] - 26s 275ms/step - loss: 0.1073 - get_f1: 0.6688 - val_loss: 0.1922 - val_get_f1: 0.5789\n",
      "Epoch 18/80\n",
      "93/93 [==============================] - 27s 288ms/step - loss: 0.1061 - get_f1: 0.6794 - val_loss: 0.1777 - val_get_f1: 0.5405\n",
      "Epoch 19/80\n",
      "93/93 [==============================] - 26s 280ms/step - loss: 0.1028 - get_f1: 0.6861 - val_loss: 0.1876 - val_get_f1: 0.5000\n",
      "Epoch 20/80\n",
      "93/93 [==============================] - 26s 276ms/step - loss: 0.1012 - get_f1: 0.6846 - val_loss: 0.1774 - val_get_f1: 0.6154\n",
      "Epoch 21/80\n",
      "93/93 [==============================] - 26s 281ms/step - loss: 0.1026 - get_f1: 0.6804 - val_loss: 0.1835 - val_get_f1: 0.5789\n",
      "Epoch 22/80\n",
      "93/93 [==============================] - 27s 285ms/step - loss: 0.1025 - get_f1: 0.6857 - val_loss: 0.1826 - val_get_f1: 0.6667\n",
      "Epoch 23/80\n",
      "93/93 [==============================] - 26s 285ms/step - loss: 0.0980 - get_f1: 0.6979 - val_loss: 0.1950 - val_get_f1: 0.4242\n",
      "Epoch 24/80\n",
      "93/93 [==============================] - 27s 286ms/step - loss: 0.0974 - get_f1: 0.7099 - val_loss: 0.1803 - val_get_f1: 0.5789\n",
      "Epoch 25/80\n",
      "93/93 [==============================] - 25s 274ms/step - loss: 0.0937 - get_f1: 0.7152 - val_loss: 0.1938 - val_get_f1: 0.5946\n",
      "Epoch 26/80\n",
      "93/93 [==============================] - 27s 292ms/step - loss: 0.0947 - get_f1: 0.7032 - val_loss: 0.2029 - val_get_f1: 0.6316\n",
      "Epoch 27/80\n",
      "93/93 [==============================] - 28s 301ms/step - loss: 0.0929 - get_f1: 0.7205 - val_loss: 0.1650 - val_get_f1: 0.5946\n",
      "Epoch 28/80\n",
      "93/93 [==============================] - 26s 276ms/step - loss: 0.0930 - get_f1: 0.7227 - val_loss: 0.1788 - val_get_f1: 0.5143\n",
      "Epoch 29/80\n",
      "93/93 [==============================] - 26s 278ms/step - loss: 0.0911 - get_f1: 0.7233 - val_loss: 0.1731 - val_get_f1: 0.5556\n",
      "Epoch 30/80\n",
      "93/93 [==============================] - 26s 277ms/step - loss: 0.0862 - get_f1: 0.7332 - val_loss: 0.1625 - val_get_f1: 0.6000\n",
      "Epoch 31/80\n",
      "93/93 [==============================] - 26s 277ms/step - loss: 0.0876 - get_f1: 0.7452 - val_loss: 0.1793 - val_get_f1: 0.6316\n",
      "Epoch 32/80\n",
      "93/93 [==============================] - 26s 279ms/step - loss: 0.0864 - get_f1: 0.7444 - val_loss: 0.1877 - val_get_f1: 0.5556\n",
      "Epoch 33/80\n",
      "93/93 [==============================] - 26s 281ms/step - loss: 0.0854 - get_f1: 0.7379 - val_loss: 0.1935 - val_get_f1: 0.5556\n",
      "Epoch 34/80\n",
      "93/93 [==============================] - 26s 280ms/step - loss: 0.0866 - get_f1: 0.7409 - val_loss: 0.1868 - val_get_f1: 0.5405\n",
      "Epoch 35/80\n",
      "93/93 [==============================] - 26s 283ms/step - loss: 0.0830 - get_f1: 0.7342 - val_loss: 0.1980 - val_get_f1: 0.5556\n",
      "Epoch 36/80\n",
      "93/93 [==============================] - 26s 280ms/step - loss: 0.0798 - get_f1: 0.7586 - val_loss: 0.1881 - val_get_f1: 0.5556\n",
      "Epoch 37/80\n",
      "93/93 [==============================] - 26s 278ms/step - loss: 0.0809 - get_f1: 0.7534 - val_loss: 0.1750 - val_get_f1: 0.7000\n",
      "Epoch 38/80\n",
      "93/93 [==============================] - 26s 281ms/step - loss: 0.0767 - get_f1: 0.7688 - val_loss: 0.1794 - val_get_f1: 0.7000\n",
      "Epoch 39/80\n",
      "93/93 [==============================] - 27s 285ms/step - loss: 0.0810 - get_f1: 0.7569 - val_loss: 0.1939 - val_get_f1: 0.5946\n",
      "Epoch 40/80\n",
      "93/93 [==============================] - 26s 280ms/step - loss: 0.0742 - get_f1: 0.7819 - val_loss: 0.1651 - val_get_f1: 0.6500\n",
      "Epoch 41/80\n",
      "93/93 [==============================] - 27s 285ms/step - loss: 0.0740 - get_f1: 0.7840 - val_loss: 0.1612 - val_get_f1: 0.6512\n",
      "Epoch 42/80\n",
      "93/93 [==============================] - 26s 285ms/step - loss: 0.0738 - get_f1: 0.7766 - val_loss: 0.1628 - val_get_f1: 0.5556\n",
      "Epoch 43/80\n",
      "93/93 [==============================] - 26s 284ms/step - loss: 0.0749 - get_f1: 0.7704 - val_loss: 0.1855 - val_get_f1: 0.6316\n",
      "Epoch 44/80\n",
      "93/93 [==============================] - 26s 275ms/step - loss: 0.0735 - get_f1: 0.7859 - val_loss: 0.1367 - val_get_f1: 0.7442\n",
      "Epoch 45/80\n",
      "93/93 [==============================] - 26s 282ms/step - loss: 0.0704 - get_f1: 0.8018 - val_loss: 0.1508 - val_get_f1: 0.7000\n",
      "Epoch 46/80\n",
      "93/93 [==============================] - 26s 276ms/step - loss: 0.0697 - get_f1: 0.7804 - val_loss: 0.1994 - val_get_f1: 0.5294\n",
      "Epoch 47/80\n",
      "93/93 [==============================] - 27s 285ms/step - loss: 0.0715 - get_f1: 0.7849 - val_loss: 0.1760 - val_get_f1: 0.6316\n",
      "Epoch 48/80\n",
      "93/93 [==============================] - 26s 280ms/step - loss: 0.0669 - get_f1: 0.8007 - val_loss: 0.1573 - val_get_f1: 0.6512\n",
      "Epoch 49/80\n",
      "93/93 [==============================] - 26s 283ms/step - loss: 0.0666 - get_f1: 0.7984 - val_loss: 0.1705 - val_get_f1: 0.6667\n",
      "Epoch 50/80\n",
      "93/93 [==============================] - 27s 294ms/step - loss: 0.0674 - get_f1: 0.8030 - val_loss: 0.1628 - val_get_f1: 0.6316\n",
      "Epoch 51/80\n",
      "93/93 [==============================] - 26s 277ms/step - loss: 0.0672 - get_f1: 0.7988 - val_loss: 0.1800 - val_get_f1: 0.6316\n",
      "Epoch 52/80\n",
      "93/93 [==============================] - 26s 278ms/step - loss: 0.0641 - get_f1: 0.8131 - val_loss: 0.1491 - val_get_f1: 0.6829\n",
      "Epoch 53/80\n",
      "93/93 [==============================] - 26s 275ms/step - loss: 0.0639 - get_f1: 0.8223 - val_loss: 0.1407 - val_get_f1: 0.7143\n",
      "Epoch 54/80\n",
      "93/93 [==============================] - 26s 279ms/step - loss: 0.0620 - get_f1: 0.8104 - val_loss: 0.1528 - val_get_f1: 0.6500\n",
      "Epoch 55/80\n",
      "93/93 [==============================] - 26s 279ms/step - loss: 0.0632 - get_f1: 0.8049 - val_loss: 0.1662 - val_get_f1: 0.6829\n",
      "Epoch 56/80\n",
      "93/93 [==============================] - 26s 284ms/step - loss: 0.0621 - get_f1: 0.8135 - val_loss: 0.1766 - val_get_f1: 0.5946\n",
      "Epoch 57/80\n",
      "93/93 [==============================] - 26s 281ms/step - loss: 0.0586 - get_f1: 0.8301 - val_loss: 0.1737 - val_get_f1: 0.6500\n",
      "Epoch 58/80\n",
      "93/93 [==============================] - 26s 280ms/step - loss: 0.0617 - get_f1: 0.8199 - val_loss: 0.1948 - val_get_f1: 0.6154\n",
      "Epoch 59/80\n"
     ]
    },
    {
     "name": "stdout",
     "output_type": "stream",
     "text": [
      "93/93 [==============================] - 26s 278ms/step - loss: 0.0610 - get_f1: 0.8265 - val_loss: 0.1764 - val_get_f1: 0.6341\n",
      "Epoch 60/80\n",
      "93/93 [==============================] - 26s 284ms/step - loss: 0.0609 - get_f1: 0.8223 - val_loss: 0.1928 - val_get_f1: 0.6316\n",
      "Epoch 61/80\n",
      "93/93 [==============================] - 26s 285ms/step - loss: 0.0565 - get_f1: 0.8423 - val_loss: 0.1707 - val_get_f1: 0.6667\n",
      "Epoch 62/80\n",
      "93/93 [==============================] - 27s 291ms/step - loss: 0.0588 - get_f1: 0.8199 - val_loss: 0.1507 - val_get_f1: 0.6818\n",
      "Epoch 63/80\n",
      "93/93 [==============================] - 26s 281ms/step - loss: 0.0551 - get_f1: 0.8369 - val_loss: 0.1772 - val_get_f1: 0.6500\n",
      "Epoch 64/80\n",
      "93/93 [==============================] - 26s 278ms/step - loss: 0.0564 - get_f1: 0.8355 - val_loss: 0.1738 - val_get_f1: 0.6500\n",
      "Epoch 65/80\n",
      "93/93 [==============================] - 26s 276ms/step - loss: 0.0538 - get_f1: 0.8424 - val_loss: 0.1793 - val_get_f1: 0.6829\n",
      "Epoch 66/80\n",
      "93/93 [==============================] - 26s 279ms/step - loss: 0.0538 - get_f1: 0.8405 - val_loss: 0.1662 - val_get_f1: 0.6829\n",
      "Epoch 67/80\n",
      "93/93 [==============================] - 26s 280ms/step - loss: 0.0544 - get_f1: 0.8327 - val_loss: 0.1723 - val_get_f1: 0.6500\n",
      "Epoch 68/80\n",
      "93/93 [==============================] - 26s 278ms/step - loss: 0.0524 - get_f1: 0.8516 - val_loss: 0.1730 - val_get_f1: 0.6667\n",
      "Epoch 69/80\n",
      "93/93 [==============================] - 26s 284ms/step - loss: 0.0552 - get_f1: 0.8404 - val_loss: 0.1556 - val_get_f1: 0.7143\n",
      "Epoch 70/80\n",
      "93/93 [==============================] - 26s 284ms/step - loss: 0.0523 - get_f1: 0.8537 - val_loss: 0.1523 - val_get_f1: 0.7273\n",
      "Epoch 71/80\n",
      "93/93 [==============================] - 27s 286ms/step - loss: 0.0518 - get_f1: 0.8541 - val_loss: 0.1689 - val_get_f1: 0.6977\n",
      "Epoch 72/80\n",
      "93/93 [==============================] - 27s 294ms/step - loss: 0.0519 - get_f1: 0.8458 - val_loss: 0.1711 - val_get_f1: 0.6667\n",
      "Epoch 73/80\n",
      "93/93 [==============================] - 27s 286ms/step - loss: 0.0503 - get_f1: 0.8556 - val_loss: 0.1956 - val_get_f1: 0.6829\n",
      "Epoch 74/80\n",
      "93/93 [==============================] - 27s 295ms/step - loss: 0.0516 - get_f1: 0.8516 - val_loss: 0.1856 - val_get_f1: 0.6667\n",
      "Epoch 75/80\n",
      "93/93 [==============================] - 26s 283ms/step - loss: 0.0474 - get_f1: 0.8574 - val_loss: 0.1827 - val_get_f1: 0.6829\n",
      "Epoch 76/80\n",
      "93/93 [==============================] - 26s 278ms/step - loss: 0.0482 - get_f1: 0.8558 - val_loss: 0.1856 - val_get_f1: 0.7143\n",
      "Epoch 77/80\n",
      "93/93 [==============================] - 26s 278ms/step - loss: 0.0473 - get_f1: 0.8644 - val_loss: 0.1817 - val_get_f1: 0.7000\n",
      "Epoch 78/80\n",
      "93/93 [==============================] - 26s 280ms/step - loss: 0.0492 - get_f1: 0.8712 - val_loss: 0.1788 - val_get_f1: 0.6512\n",
      "Epoch 79/80\n",
      "93/93 [==============================] - 26s 281ms/step - loss: 0.0497 - get_f1: 0.8478 - val_loss: 0.1888 - val_get_f1: 0.7143\n",
      "Epoch 80/80\n",
      "93/93 [==============================] - 26s 284ms/step - loss: 0.0488 - get_f1: 0.8562 - val_loss: 0.1718 - val_get_f1: 0.6818\n"
     ]
    }
   ],
   "source": [
    "history = model.fit(X_train1, y_train1, shuffle=True, validation_data=(X_valid, y_valid), batch_size=batch_size, epochs=epochs)"
   ]
  },
  {
   "cell_type": "markdown",
   "metadata": {},
   "source": [
    "# Evaluate model performance\n",
    "We do not use accuracy because the dataset is unbalanced, we use f1_score which is a combination of both accuracy and recall # Evaluate the model performance"
   ]
  },
  {
   "cell_type": "code",
   "execution_count": 23,
   "metadata": {},
   "outputs": [
    {
     "name": "stdout",
     "output_type": "stream",
     "text": [
      "Test f1_score :  0.6328524351119995\n"
     ]
    },
    {
     "data": {
      "image/png": "[encoded data removed]",
      "text/plain": [
       "<Figure size 432x288 with 1 Axes>"
      ]
     },
     "metadata": {
      "needs_background": "light"
     },
     "output_type": "display_data"
    }
   ],
   "source": [
    "scores = model.evaluate(X_test, y_test, verbose=0)\n",
    "print(\"Test f1_score : \", scores[1])\n",
    "\n",
    "\n",
    "loss = history.history['loss']\n",
    "loss_val = history.history['val_loss']\n",
    "accuracy = history.history['get_f1']\n",
    "accuracy_val = history.history['val_get_f1']\n",
    "epochs = range(1, len(loss)+1)\n",
    "\n",
    "plt.plot(epochs, loss, 'b', label='Training loss')\n",
    "plt.plot(epochs, loss_val, 'b--', label='validation loss')\n",
    "plt.plot(epochs, accuracy, 'r', label='Training accuracy')\n",
    "plt.plot(epochs, accuracy_val, 'r--', label='validation accuracy')\n",
    "\n",
    "plt.title('Training and Validation loss')\n",
    "plt.xlabel('Epochs')\n",
    "plt.legend()\n",
    "plt.grid()\n",
    "plt.show()"
   ]
  },
  {
   "cell_type": "code",
   "execution_count": 24,
   "metadata": {},
   "outputs": [
    {
     "name": "stdout",
     "output_type": "stream",
     "text": [
      "0,6328524351119995\n"
     ]
    },
    {
     "data": {
      "text/plain": [
       "<Figure size 432x288 with 0 Axes>"
      ]
     },
     "metadata": {},
     "output_type": "display_data"
    }
   ],
   "source": [
    "# Save the plot with few caracteristics in the name\n",
    "scores[1] = str(scores[1]).replace(\".\",\",\")\n",
    "lstm_dropout = str(lstm_dropout).replace(\".\",\",\")\n",
    "print(scores[1])\n",
    "plt.savefig('HateSpeech FastText 1BidiLSTM f1_score {} drop {} sizeLSTM {}.png'.format(scores[1], lstm_dropout, lstm_size))"
   ]
  },
  {
   "cell_type": "code",
   "execution_count": null,
   "metadata": {},
   "outputs": [],
   "source": []
  }
 ],
 "metadata": {
  "kernelspec": {
   "display_name": "Python 3",
   "language": "python",
   "name": "python3"
  },
  "language_info": {
   "codemirror_mode": {
    "name": "ipython",
    "version": 3
   },
   "file_extension": ".py",
   "mimetype": "text/x-python",
   "name": "python",
   "nbconvert_exporter": "python",
   "pygments_lexer": "ipython3",
   "version": "3.7.8"
  }
 },
 "nbformat": 4,
 "nbformat_minor": 4
}
